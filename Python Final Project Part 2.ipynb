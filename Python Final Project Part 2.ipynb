{
 "cells": [
  {
   "cell_type": "markdown",
   "id": "2d9e1f9d",
   "metadata": {},
   "source": [
    "# Python Project"
   ]
  },
  {
   "cell_type": "code",
   "execution_count": 2,
   "id": "50932dc2",
   "metadata": {},
   "outputs": [],
   "source": [
    "import pandas as pd\n",
    "import matplotlib.pyplot as plt\n",
    "import numpy as np\n",
    "import seaborn as sns\n",
    "from sklearn import metrics "
   ]
  },
  {
   "cell_type": "code",
   "execution_count": 3,
   "id": "1902c2f8",
   "metadata": {},
   "outputs": [
    {
     "data": {
      "text/html": [
       "<div>\n",
       "<style scoped>\n",
       "    .dataframe tbody tr th:only-of-type {\n",
       "        vertical-align: middle;\n",
       "    }\n",
       "\n",
       "    .dataframe tbody tr th {\n",
       "        vertical-align: top;\n",
       "    }\n",
       "\n",
       "    .dataframe thead th {\n",
       "        text-align: right;\n",
       "    }\n",
       "</style>\n",
       "<table border=\"1\" class=\"dataframe\">\n",
       "  <thead>\n",
       "    <tr style=\"text-align: right;\">\n",
       "      <th></th>\n",
       "      <th>Year</th>\n",
       "      <th>timbreAvg1</th>\n",
       "      <th>timbreAvg2</th>\n",
       "      <th>timbreAvg3</th>\n",
       "      <th>timbreAvg4</th>\n",
       "      <th>timbreAvg5</th>\n",
       "      <th>timbreAvg6</th>\n",
       "      <th>timbreAvg7</th>\n",
       "      <th>timbreAvg8</th>\n",
       "      <th>timbreAvg9</th>\n",
       "      <th>...</th>\n",
       "      <th>timbreCov69</th>\n",
       "      <th>timbreCov70</th>\n",
       "      <th>timbreCov71</th>\n",
       "      <th>timbreCov72</th>\n",
       "      <th>timbreCov73</th>\n",
       "      <th>timbreCov74</th>\n",
       "      <th>timbreCov75</th>\n",
       "      <th>timbreCov76</th>\n",
       "      <th>timbreCov77</th>\n",
       "      <th>timbreCov78</th>\n",
       "    </tr>\n",
       "  </thead>\n",
       "  <tbody>\n",
       "    <tr>\n",
       "      <th>0</th>\n",
       "      <td>2001.0</td>\n",
       "      <td>49.94357</td>\n",
       "      <td>21.47114</td>\n",
       "      <td>73.07750</td>\n",
       "      <td>8.74861</td>\n",
       "      <td>-17.40628</td>\n",
       "      <td>-13.09905</td>\n",
       "      <td>-25.01202</td>\n",
       "      <td>-12.23257</td>\n",
       "      <td>7.83089</td>\n",
       "      <td>...</td>\n",
       "      <td>13.01620</td>\n",
       "      <td>-54.40548</td>\n",
       "      <td>58.99367</td>\n",
       "      <td>15.37344</td>\n",
       "      <td>1.11144</td>\n",
       "      <td>-23.08793</td>\n",
       "      <td>68.40795</td>\n",
       "      <td>-1.82223</td>\n",
       "      <td>-27.46348</td>\n",
       "      <td>2.26327</td>\n",
       "    </tr>\n",
       "    <tr>\n",
       "      <th>1</th>\n",
       "      <td>2001.0</td>\n",
       "      <td>48.73215</td>\n",
       "      <td>18.42930</td>\n",
       "      <td>70.32679</td>\n",
       "      <td>12.94636</td>\n",
       "      <td>-10.32437</td>\n",
       "      <td>-24.83777</td>\n",
       "      <td>8.76630</td>\n",
       "      <td>-0.92019</td>\n",
       "      <td>18.76548</td>\n",
       "      <td>...</td>\n",
       "      <td>5.66812</td>\n",
       "      <td>-19.68073</td>\n",
       "      <td>33.04964</td>\n",
       "      <td>42.87836</td>\n",
       "      <td>-9.90378</td>\n",
       "      <td>-32.22788</td>\n",
       "      <td>70.49388</td>\n",
       "      <td>12.04941</td>\n",
       "      <td>58.43453</td>\n",
       "      <td>26.92061</td>\n",
       "    </tr>\n",
       "    <tr>\n",
       "      <th>2</th>\n",
       "      <td>2001.0</td>\n",
       "      <td>50.95714</td>\n",
       "      <td>31.85602</td>\n",
       "      <td>55.81851</td>\n",
       "      <td>13.41693</td>\n",
       "      <td>-6.57898</td>\n",
       "      <td>-18.54940</td>\n",
       "      <td>-3.27872</td>\n",
       "      <td>-2.35035</td>\n",
       "      <td>16.07017</td>\n",
       "      <td>...</td>\n",
       "      <td>3.03800</td>\n",
       "      <td>26.05866</td>\n",
       "      <td>-50.92779</td>\n",
       "      <td>10.93792</td>\n",
       "      <td>-0.07568</td>\n",
       "      <td>43.20130</td>\n",
       "      <td>-115.00698</td>\n",
       "      <td>-0.05859</td>\n",
       "      <td>39.67068</td>\n",
       "      <td>-0.66345</td>\n",
       "    </tr>\n",
       "    <tr>\n",
       "      <th>3</th>\n",
       "      <td>2001.0</td>\n",
       "      <td>48.24750</td>\n",
       "      <td>-1.89837</td>\n",
       "      <td>36.29772</td>\n",
       "      <td>2.58776</td>\n",
       "      <td>0.97170</td>\n",
       "      <td>-26.21683</td>\n",
       "      <td>5.05097</td>\n",
       "      <td>-10.34124</td>\n",
       "      <td>3.55005</td>\n",
       "      <td>...</td>\n",
       "      <td>34.57337</td>\n",
       "      <td>-171.70734</td>\n",
       "      <td>-16.96705</td>\n",
       "      <td>-46.67617</td>\n",
       "      <td>-12.51516</td>\n",
       "      <td>82.58061</td>\n",
       "      <td>-72.08993</td>\n",
       "      <td>9.90558</td>\n",
       "      <td>199.62971</td>\n",
       "      <td>18.85382</td>\n",
       "    </tr>\n",
       "    <tr>\n",
       "      <th>4</th>\n",
       "      <td>2001.0</td>\n",
       "      <td>50.97020</td>\n",
       "      <td>42.20998</td>\n",
       "      <td>67.09964</td>\n",
       "      <td>8.46791</td>\n",
       "      <td>-15.85279</td>\n",
       "      <td>-16.81409</td>\n",
       "      <td>-12.48207</td>\n",
       "      <td>-9.37636</td>\n",
       "      <td>12.63699</td>\n",
       "      <td>...</td>\n",
       "      <td>9.92661</td>\n",
       "      <td>-55.95724</td>\n",
       "      <td>64.92712</td>\n",
       "      <td>-17.72522</td>\n",
       "      <td>-1.49237</td>\n",
       "      <td>-7.50035</td>\n",
       "      <td>51.76631</td>\n",
       "      <td>7.88713</td>\n",
       "      <td>55.66926</td>\n",
       "      <td>28.74903</td>\n",
       "    </tr>\n",
       "    <tr>\n",
       "      <th>...</th>\n",
       "      <td>...</td>\n",
       "      <td>...</td>\n",
       "      <td>...</td>\n",
       "      <td>...</td>\n",
       "      <td>...</td>\n",
       "      <td>...</td>\n",
       "      <td>...</td>\n",
       "      <td>...</td>\n",
       "      <td>...</td>\n",
       "      <td>...</td>\n",
       "      <td>...</td>\n",
       "      <td>...</td>\n",
       "      <td>...</td>\n",
       "      <td>...</td>\n",
       "      <td>...</td>\n",
       "      <td>...</td>\n",
       "      <td>...</td>\n",
       "      <td>...</td>\n",
       "      <td>...</td>\n",
       "      <td>...</td>\n",
       "      <td>...</td>\n",
       "    </tr>\n",
       "    <tr>\n",
       "      <th>515340</th>\n",
       "      <td>2006.0</td>\n",
       "      <td>51.28467</td>\n",
       "      <td>45.88068</td>\n",
       "      <td>22.19582</td>\n",
       "      <td>-5.53319</td>\n",
       "      <td>-3.61835</td>\n",
       "      <td>-16.36914</td>\n",
       "      <td>2.12652</td>\n",
       "      <td>5.18160</td>\n",
       "      <td>-8.66890</td>\n",
       "      <td>...</td>\n",
       "      <td>4.81440</td>\n",
       "      <td>-3.75991</td>\n",
       "      <td>-30.92584</td>\n",
       "      <td>26.33968</td>\n",
       "      <td>-5.03390</td>\n",
       "      <td>21.86037</td>\n",
       "      <td>-142.29410</td>\n",
       "      <td>3.42901</td>\n",
       "      <td>-41.14721</td>\n",
       "      <td>-15.46052</td>\n",
       "    </tr>\n",
       "    <tr>\n",
       "      <th>515341</th>\n",
       "      <td>2006.0</td>\n",
       "      <td>49.87870</td>\n",
       "      <td>37.93125</td>\n",
       "      <td>18.65987</td>\n",
       "      <td>-3.63581</td>\n",
       "      <td>-27.75665</td>\n",
       "      <td>-18.52988</td>\n",
       "      <td>7.76108</td>\n",
       "      <td>3.56109</td>\n",
       "      <td>-2.50351</td>\n",
       "      <td>...</td>\n",
       "      <td>32.38589</td>\n",
       "      <td>-32.75535</td>\n",
       "      <td>-61.05473</td>\n",
       "      <td>56.65182</td>\n",
       "      <td>15.29965</td>\n",
       "      <td>95.88193</td>\n",
       "      <td>-10.63242</td>\n",
       "      <td>12.96552</td>\n",
       "      <td>92.11633</td>\n",
       "      <td>10.88815</td>\n",
       "    </tr>\n",
       "    <tr>\n",
       "      <th>515342</th>\n",
       "      <td>2006.0</td>\n",
       "      <td>45.12852</td>\n",
       "      <td>12.65758</td>\n",
       "      <td>-38.72018</td>\n",
       "      <td>8.80882</td>\n",
       "      <td>-29.29985</td>\n",
       "      <td>-2.28706</td>\n",
       "      <td>-18.40424</td>\n",
       "      <td>-22.28726</td>\n",
       "      <td>-4.52429</td>\n",
       "      <td>...</td>\n",
       "      <td>-18.73598</td>\n",
       "      <td>-71.15954</td>\n",
       "      <td>-123.98443</td>\n",
       "      <td>121.26989</td>\n",
       "      <td>10.89629</td>\n",
       "      <td>34.62409</td>\n",
       "      <td>-248.61020</td>\n",
       "      <td>-6.07171</td>\n",
       "      <td>53.96319</td>\n",
       "      <td>-8.09364</td>\n",
       "    </tr>\n",
       "    <tr>\n",
       "      <th>515343</th>\n",
       "      <td>2006.0</td>\n",
       "      <td>44.16614</td>\n",
       "      <td>32.38368</td>\n",
       "      <td>-3.34971</td>\n",
       "      <td>-2.49165</td>\n",
       "      <td>-19.59278</td>\n",
       "      <td>-18.67098</td>\n",
       "      <td>8.78428</td>\n",
       "      <td>4.02039</td>\n",
       "      <td>-12.01230</td>\n",
       "      <td>...</td>\n",
       "      <td>67.16763</td>\n",
       "      <td>282.77624</td>\n",
       "      <td>-4.63677</td>\n",
       "      <td>144.00125</td>\n",
       "      <td>21.62652</td>\n",
       "      <td>-29.72432</td>\n",
       "      <td>71.47198</td>\n",
       "      <td>20.32240</td>\n",
       "      <td>14.83107</td>\n",
       "      <td>39.74909</td>\n",
       "    </tr>\n",
       "    <tr>\n",
       "      <th>515344</th>\n",
       "      <td>2005.0</td>\n",
       "      <td>51.85726</td>\n",
       "      <td>59.11655</td>\n",
       "      <td>26.39436</td>\n",
       "      <td>-5.46030</td>\n",
       "      <td>-20.69012</td>\n",
       "      <td>-19.95528</td>\n",
       "      <td>-6.72771</td>\n",
       "      <td>2.29590</td>\n",
       "      <td>10.31018</td>\n",
       "      <td>...</td>\n",
       "      <td>-11.50511</td>\n",
       "      <td>-69.18291</td>\n",
       "      <td>60.58456</td>\n",
       "      <td>28.64599</td>\n",
       "      <td>-4.39620</td>\n",
       "      <td>-64.56491</td>\n",
       "      <td>-45.61012</td>\n",
       "      <td>-5.51512</td>\n",
       "      <td>32.35602</td>\n",
       "      <td>12.17352</td>\n",
       "    </tr>\n",
       "  </tbody>\n",
       "</table>\n",
       "<p>515345 rows × 91 columns</p>\n",
       "</div>"
      ],
      "text/plain": [
       "          Year  timbreAvg1  timbreAvg2  timbreAvg3  timbreAvg4  timbreAvg5  \\\n",
       "0       2001.0    49.94357    21.47114    73.07750     8.74861   -17.40628   \n",
       "1       2001.0    48.73215    18.42930    70.32679    12.94636   -10.32437   \n",
       "2       2001.0    50.95714    31.85602    55.81851    13.41693    -6.57898   \n",
       "3       2001.0    48.24750    -1.89837    36.29772     2.58776     0.97170   \n",
       "4       2001.0    50.97020    42.20998    67.09964     8.46791   -15.85279   \n",
       "...        ...         ...         ...         ...         ...         ...   \n",
       "515340  2006.0    51.28467    45.88068    22.19582    -5.53319    -3.61835   \n",
       "515341  2006.0    49.87870    37.93125    18.65987    -3.63581   -27.75665   \n",
       "515342  2006.0    45.12852    12.65758   -38.72018     8.80882   -29.29985   \n",
       "515343  2006.0    44.16614    32.38368    -3.34971    -2.49165   -19.59278   \n",
       "515344  2005.0    51.85726    59.11655    26.39436    -5.46030   -20.69012   \n",
       "\n",
       "        timbreAvg6  timbreAvg7  timbreAvg8  timbreAvg9  ...  timbreCov69  \\\n",
       "0        -13.09905   -25.01202   -12.23257     7.83089  ...     13.01620   \n",
       "1        -24.83777     8.76630    -0.92019    18.76548  ...      5.66812   \n",
       "2        -18.54940    -3.27872    -2.35035    16.07017  ...      3.03800   \n",
       "3        -26.21683     5.05097   -10.34124     3.55005  ...     34.57337   \n",
       "4        -16.81409   -12.48207    -9.37636    12.63699  ...      9.92661   \n",
       "...            ...         ...         ...         ...  ...          ...   \n",
       "515340   -16.36914     2.12652     5.18160    -8.66890  ...      4.81440   \n",
       "515341   -18.52988     7.76108     3.56109    -2.50351  ...     32.38589   \n",
       "515342    -2.28706   -18.40424   -22.28726    -4.52429  ...    -18.73598   \n",
       "515343   -18.67098     8.78428     4.02039   -12.01230  ...     67.16763   \n",
       "515344   -19.95528    -6.72771     2.29590    10.31018  ...    -11.50511   \n",
       "\n",
       "        timbreCov70  timbreCov71  timbreCov72  timbreCov73  timbreCov74  \\\n",
       "0         -54.40548     58.99367     15.37344      1.11144    -23.08793   \n",
       "1         -19.68073     33.04964     42.87836     -9.90378    -32.22788   \n",
       "2          26.05866    -50.92779     10.93792     -0.07568     43.20130   \n",
       "3        -171.70734    -16.96705    -46.67617    -12.51516     82.58061   \n",
       "4         -55.95724     64.92712    -17.72522     -1.49237     -7.50035   \n",
       "...             ...          ...          ...          ...          ...   \n",
       "515340     -3.75991    -30.92584     26.33968     -5.03390     21.86037   \n",
       "515341    -32.75535    -61.05473     56.65182     15.29965     95.88193   \n",
       "515342    -71.15954   -123.98443    121.26989     10.89629     34.62409   \n",
       "515343    282.77624     -4.63677    144.00125     21.62652    -29.72432   \n",
       "515344    -69.18291     60.58456     28.64599     -4.39620    -64.56491   \n",
       "\n",
       "        timbreCov75  timbreCov76  timbreCov77  timbreCov78  \n",
       "0          68.40795     -1.82223    -27.46348      2.26327  \n",
       "1          70.49388     12.04941     58.43453     26.92061  \n",
       "2        -115.00698     -0.05859     39.67068     -0.66345  \n",
       "3         -72.08993      9.90558    199.62971     18.85382  \n",
       "4          51.76631      7.88713     55.66926     28.74903  \n",
       "...             ...          ...          ...          ...  \n",
       "515340   -142.29410      3.42901    -41.14721    -15.46052  \n",
       "515341    -10.63242     12.96552     92.11633     10.88815  \n",
       "515342   -248.61020     -6.07171     53.96319     -8.09364  \n",
       "515343     71.47198     20.32240     14.83107     39.74909  \n",
       "515344    -45.61012     -5.51512     32.35602     12.17352  \n",
       "\n",
       "[515345 rows x 91 columns]"
      ]
     },
     "execution_count": 3,
     "metadata": {},
     "output_type": "execute_result"
    }
   ],
   "source": [
    "df = pd.DataFrame(np.loadtxt(r\"C:\\Users\\vlebo\\Documents\\SEMESTRE 7\\Python for Data Analysis\\Jupyter Files\\data\\YearPredictionMSD.txt\",delimiter = \",\"), columns = ['Year', 'timbreAvg1','timbreAvg2','timbreAvg3','timbreAvg4','timbreAvg5','timbreAvg6','timbreAvg7','timbreAvg8','timbreAvg9','timbreAvg10','timbreAvg11','timbreAvg12', 'timbreCov1','timbreCov2','timbreCov3','timbreCov4','timbreCov5','timbreCov6','timbreCov7','timbreCov8','timbreCov9','timbreCov10','timbreCov11','timbreCov12','timbreCov13','timbreCov14','timbreCov15','timbreCov16','timbreCov17','timbreCov18','timbreCov19','timbreCov20','timbreCov21','timbreCov22','timbreCov23','timbreCov24','timbreCov25','timbreCov26','timbreCov27','timbreCov28','timbreCov29','timbreCov30','timbreCov31','timbreCov32','timbreCov33','timbreCov34','timbreCov35','timbreCov36','timbreCov37','timbreCov38','timbreCov39','timbreCov40','timbreCov41','timbreCov42','timbreCov43','timbreCov44','timbreCov45','timbreCov46','timbreCov47','timbreCov48','timbreCov49','timbreCov50','timbreCov51','timbreCov52','timbreCov53','timbreCov54','timbreCov55','timbreCov56','timbreCov57','timbreCov58','timbreCov59','timbreCov60','timbreCov61','timbreCov62','timbreCov63','timbreCov64','timbreCov65','timbreCov66','timbreCov67','timbreCov68','timbreCov69','timbreCov70','timbreCov71','timbreCov72','timbreCov73','timbreCov74','timbreCov75','timbreCov76','timbreCov77','timbreCov78'])\n",
    "df "
   ]
  },
  {
   "cell_type": "markdown",
   "id": "18f24339",
   "metadata": {},
   "source": [
    "These features were extracted from the 'timbre' features from The Echo Nest API. The authors took the average and covariance over all 'segments' and each segment was described by a 12-dimensional timbre vector."
   ]
  },
  {
   "cell_type": "code",
   "execution_count": 4,
   "id": "191f7fbe",
   "metadata": {},
   "outputs": [
    {
     "data": {
      "text/plain": [
       "0         2001.0\n",
       "1         2001.0\n",
       "2         2001.0\n",
       "3         2001.0\n",
       "4         2001.0\n",
       "           ...  \n",
       "515340    2006.0\n",
       "515341    2006.0\n",
       "515342    2006.0\n",
       "515343    2006.0\n",
       "515344    2005.0\n",
       "Name: Year, Length: 515345, dtype: float64"
      ]
     },
     "execution_count": 4,
     "metadata": {},
     "output_type": "execute_result"
    }
   ],
   "source": [
    "df[\"Year\"]"
   ]
  },
  {
   "cell_type": "code",
   "execution_count": 5,
   "id": "7fa372c3",
   "metadata": {},
   "outputs": [],
   "source": [
    "df['Year'] = df['Year'].apply(int)\n"
   ]
  },
  {
   "cell_type": "code",
   "execution_count": 6,
   "id": "cb8a15bb",
   "metadata": {},
   "outputs": [
    {
     "data": {
      "text/html": [
       "<div>\n",
       "<style scoped>\n",
       "    .dataframe tbody tr th:only-of-type {\n",
       "        vertical-align: middle;\n",
       "    }\n",
       "\n",
       "    .dataframe tbody tr th {\n",
       "        vertical-align: top;\n",
       "    }\n",
       "\n",
       "    .dataframe thead th {\n",
       "        text-align: right;\n",
       "    }\n",
       "</style>\n",
       "<table border=\"1\" class=\"dataframe\">\n",
       "  <thead>\n",
       "    <tr style=\"text-align: right;\">\n",
       "      <th></th>\n",
       "      <th>Year</th>\n",
       "      <th>timbreAvg1</th>\n",
       "      <th>timbreAvg2</th>\n",
       "      <th>timbreAvg3</th>\n",
       "      <th>timbreAvg4</th>\n",
       "      <th>timbreAvg5</th>\n",
       "      <th>timbreAvg6</th>\n",
       "      <th>timbreAvg7</th>\n",
       "      <th>timbreAvg8</th>\n",
       "      <th>timbreAvg9</th>\n",
       "      <th>...</th>\n",
       "      <th>timbreCov69</th>\n",
       "      <th>timbreCov70</th>\n",
       "      <th>timbreCov71</th>\n",
       "      <th>timbreCov72</th>\n",
       "      <th>timbreCov73</th>\n",
       "      <th>timbreCov74</th>\n",
       "      <th>timbreCov75</th>\n",
       "      <th>timbreCov76</th>\n",
       "      <th>timbreCov77</th>\n",
       "      <th>timbreCov78</th>\n",
       "    </tr>\n",
       "  </thead>\n",
       "  <tbody>\n",
       "    <tr>\n",
       "      <th>0</th>\n",
       "      <td>2001</td>\n",
       "      <td>49.94357</td>\n",
       "      <td>21.47114</td>\n",
       "      <td>73.07750</td>\n",
       "      <td>8.74861</td>\n",
       "      <td>-17.40628</td>\n",
       "      <td>-13.09905</td>\n",
       "      <td>-25.01202</td>\n",
       "      <td>-12.23257</td>\n",
       "      <td>7.83089</td>\n",
       "      <td>...</td>\n",
       "      <td>13.01620</td>\n",
       "      <td>-54.40548</td>\n",
       "      <td>58.99367</td>\n",
       "      <td>15.37344</td>\n",
       "      <td>1.11144</td>\n",
       "      <td>-23.08793</td>\n",
       "      <td>68.40795</td>\n",
       "      <td>-1.82223</td>\n",
       "      <td>-27.46348</td>\n",
       "      <td>2.26327</td>\n",
       "    </tr>\n",
       "    <tr>\n",
       "      <th>1</th>\n",
       "      <td>2001</td>\n",
       "      <td>48.73215</td>\n",
       "      <td>18.42930</td>\n",
       "      <td>70.32679</td>\n",
       "      <td>12.94636</td>\n",
       "      <td>-10.32437</td>\n",
       "      <td>-24.83777</td>\n",
       "      <td>8.76630</td>\n",
       "      <td>-0.92019</td>\n",
       "      <td>18.76548</td>\n",
       "      <td>...</td>\n",
       "      <td>5.66812</td>\n",
       "      <td>-19.68073</td>\n",
       "      <td>33.04964</td>\n",
       "      <td>42.87836</td>\n",
       "      <td>-9.90378</td>\n",
       "      <td>-32.22788</td>\n",
       "      <td>70.49388</td>\n",
       "      <td>12.04941</td>\n",
       "      <td>58.43453</td>\n",
       "      <td>26.92061</td>\n",
       "    </tr>\n",
       "    <tr>\n",
       "      <th>2</th>\n",
       "      <td>2001</td>\n",
       "      <td>50.95714</td>\n",
       "      <td>31.85602</td>\n",
       "      <td>55.81851</td>\n",
       "      <td>13.41693</td>\n",
       "      <td>-6.57898</td>\n",
       "      <td>-18.54940</td>\n",
       "      <td>-3.27872</td>\n",
       "      <td>-2.35035</td>\n",
       "      <td>16.07017</td>\n",
       "      <td>...</td>\n",
       "      <td>3.03800</td>\n",
       "      <td>26.05866</td>\n",
       "      <td>-50.92779</td>\n",
       "      <td>10.93792</td>\n",
       "      <td>-0.07568</td>\n",
       "      <td>43.20130</td>\n",
       "      <td>-115.00698</td>\n",
       "      <td>-0.05859</td>\n",
       "      <td>39.67068</td>\n",
       "      <td>-0.66345</td>\n",
       "    </tr>\n",
       "    <tr>\n",
       "      <th>3</th>\n",
       "      <td>2001</td>\n",
       "      <td>48.24750</td>\n",
       "      <td>-1.89837</td>\n",
       "      <td>36.29772</td>\n",
       "      <td>2.58776</td>\n",
       "      <td>0.97170</td>\n",
       "      <td>-26.21683</td>\n",
       "      <td>5.05097</td>\n",
       "      <td>-10.34124</td>\n",
       "      <td>3.55005</td>\n",
       "      <td>...</td>\n",
       "      <td>34.57337</td>\n",
       "      <td>-171.70734</td>\n",
       "      <td>-16.96705</td>\n",
       "      <td>-46.67617</td>\n",
       "      <td>-12.51516</td>\n",
       "      <td>82.58061</td>\n",
       "      <td>-72.08993</td>\n",
       "      <td>9.90558</td>\n",
       "      <td>199.62971</td>\n",
       "      <td>18.85382</td>\n",
       "    </tr>\n",
       "    <tr>\n",
       "      <th>4</th>\n",
       "      <td>2001</td>\n",
       "      <td>50.97020</td>\n",
       "      <td>42.20998</td>\n",
       "      <td>67.09964</td>\n",
       "      <td>8.46791</td>\n",
       "      <td>-15.85279</td>\n",
       "      <td>-16.81409</td>\n",
       "      <td>-12.48207</td>\n",
       "      <td>-9.37636</td>\n",
       "      <td>12.63699</td>\n",
       "      <td>...</td>\n",
       "      <td>9.92661</td>\n",
       "      <td>-55.95724</td>\n",
       "      <td>64.92712</td>\n",
       "      <td>-17.72522</td>\n",
       "      <td>-1.49237</td>\n",
       "      <td>-7.50035</td>\n",
       "      <td>51.76631</td>\n",
       "      <td>7.88713</td>\n",
       "      <td>55.66926</td>\n",
       "      <td>28.74903</td>\n",
       "    </tr>\n",
       "    <tr>\n",
       "      <th>...</th>\n",
       "      <td>...</td>\n",
       "      <td>...</td>\n",
       "      <td>...</td>\n",
       "      <td>...</td>\n",
       "      <td>...</td>\n",
       "      <td>...</td>\n",
       "      <td>...</td>\n",
       "      <td>...</td>\n",
       "      <td>...</td>\n",
       "      <td>...</td>\n",
       "      <td>...</td>\n",
       "      <td>...</td>\n",
       "      <td>...</td>\n",
       "      <td>...</td>\n",
       "      <td>...</td>\n",
       "      <td>...</td>\n",
       "      <td>...</td>\n",
       "      <td>...</td>\n",
       "      <td>...</td>\n",
       "      <td>...</td>\n",
       "      <td>...</td>\n",
       "    </tr>\n",
       "    <tr>\n",
       "      <th>515340</th>\n",
       "      <td>2006</td>\n",
       "      <td>51.28467</td>\n",
       "      <td>45.88068</td>\n",
       "      <td>22.19582</td>\n",
       "      <td>-5.53319</td>\n",
       "      <td>-3.61835</td>\n",
       "      <td>-16.36914</td>\n",
       "      <td>2.12652</td>\n",
       "      <td>5.18160</td>\n",
       "      <td>-8.66890</td>\n",
       "      <td>...</td>\n",
       "      <td>4.81440</td>\n",
       "      <td>-3.75991</td>\n",
       "      <td>-30.92584</td>\n",
       "      <td>26.33968</td>\n",
       "      <td>-5.03390</td>\n",
       "      <td>21.86037</td>\n",
       "      <td>-142.29410</td>\n",
       "      <td>3.42901</td>\n",
       "      <td>-41.14721</td>\n",
       "      <td>-15.46052</td>\n",
       "    </tr>\n",
       "    <tr>\n",
       "      <th>515341</th>\n",
       "      <td>2006</td>\n",
       "      <td>49.87870</td>\n",
       "      <td>37.93125</td>\n",
       "      <td>18.65987</td>\n",
       "      <td>-3.63581</td>\n",
       "      <td>-27.75665</td>\n",
       "      <td>-18.52988</td>\n",
       "      <td>7.76108</td>\n",
       "      <td>3.56109</td>\n",
       "      <td>-2.50351</td>\n",
       "      <td>...</td>\n",
       "      <td>32.38589</td>\n",
       "      <td>-32.75535</td>\n",
       "      <td>-61.05473</td>\n",
       "      <td>56.65182</td>\n",
       "      <td>15.29965</td>\n",
       "      <td>95.88193</td>\n",
       "      <td>-10.63242</td>\n",
       "      <td>12.96552</td>\n",
       "      <td>92.11633</td>\n",
       "      <td>10.88815</td>\n",
       "    </tr>\n",
       "    <tr>\n",
       "      <th>515342</th>\n",
       "      <td>2006</td>\n",
       "      <td>45.12852</td>\n",
       "      <td>12.65758</td>\n",
       "      <td>-38.72018</td>\n",
       "      <td>8.80882</td>\n",
       "      <td>-29.29985</td>\n",
       "      <td>-2.28706</td>\n",
       "      <td>-18.40424</td>\n",
       "      <td>-22.28726</td>\n",
       "      <td>-4.52429</td>\n",
       "      <td>...</td>\n",
       "      <td>-18.73598</td>\n",
       "      <td>-71.15954</td>\n",
       "      <td>-123.98443</td>\n",
       "      <td>121.26989</td>\n",
       "      <td>10.89629</td>\n",
       "      <td>34.62409</td>\n",
       "      <td>-248.61020</td>\n",
       "      <td>-6.07171</td>\n",
       "      <td>53.96319</td>\n",
       "      <td>-8.09364</td>\n",
       "    </tr>\n",
       "    <tr>\n",
       "      <th>515343</th>\n",
       "      <td>2006</td>\n",
       "      <td>44.16614</td>\n",
       "      <td>32.38368</td>\n",
       "      <td>-3.34971</td>\n",
       "      <td>-2.49165</td>\n",
       "      <td>-19.59278</td>\n",
       "      <td>-18.67098</td>\n",
       "      <td>8.78428</td>\n",
       "      <td>4.02039</td>\n",
       "      <td>-12.01230</td>\n",
       "      <td>...</td>\n",
       "      <td>67.16763</td>\n",
       "      <td>282.77624</td>\n",
       "      <td>-4.63677</td>\n",
       "      <td>144.00125</td>\n",
       "      <td>21.62652</td>\n",
       "      <td>-29.72432</td>\n",
       "      <td>71.47198</td>\n",
       "      <td>20.32240</td>\n",
       "      <td>14.83107</td>\n",
       "      <td>39.74909</td>\n",
       "    </tr>\n",
       "    <tr>\n",
       "      <th>515344</th>\n",
       "      <td>2005</td>\n",
       "      <td>51.85726</td>\n",
       "      <td>59.11655</td>\n",
       "      <td>26.39436</td>\n",
       "      <td>-5.46030</td>\n",
       "      <td>-20.69012</td>\n",
       "      <td>-19.95528</td>\n",
       "      <td>-6.72771</td>\n",
       "      <td>2.29590</td>\n",
       "      <td>10.31018</td>\n",
       "      <td>...</td>\n",
       "      <td>-11.50511</td>\n",
       "      <td>-69.18291</td>\n",
       "      <td>60.58456</td>\n",
       "      <td>28.64599</td>\n",
       "      <td>-4.39620</td>\n",
       "      <td>-64.56491</td>\n",
       "      <td>-45.61012</td>\n",
       "      <td>-5.51512</td>\n",
       "      <td>32.35602</td>\n",
       "      <td>12.17352</td>\n",
       "    </tr>\n",
       "  </tbody>\n",
       "</table>\n",
       "<p>515345 rows × 91 columns</p>\n",
       "</div>"
      ],
      "text/plain": [
       "        Year  timbreAvg1  timbreAvg2  timbreAvg3  timbreAvg4  timbreAvg5  \\\n",
       "0       2001    49.94357    21.47114    73.07750     8.74861   -17.40628   \n",
       "1       2001    48.73215    18.42930    70.32679    12.94636   -10.32437   \n",
       "2       2001    50.95714    31.85602    55.81851    13.41693    -6.57898   \n",
       "3       2001    48.24750    -1.89837    36.29772     2.58776     0.97170   \n",
       "4       2001    50.97020    42.20998    67.09964     8.46791   -15.85279   \n",
       "...      ...         ...         ...         ...         ...         ...   \n",
       "515340  2006    51.28467    45.88068    22.19582    -5.53319    -3.61835   \n",
       "515341  2006    49.87870    37.93125    18.65987    -3.63581   -27.75665   \n",
       "515342  2006    45.12852    12.65758   -38.72018     8.80882   -29.29985   \n",
       "515343  2006    44.16614    32.38368    -3.34971    -2.49165   -19.59278   \n",
       "515344  2005    51.85726    59.11655    26.39436    -5.46030   -20.69012   \n",
       "\n",
       "        timbreAvg6  timbreAvg7  timbreAvg8  timbreAvg9  ...  timbreCov69  \\\n",
       "0        -13.09905   -25.01202   -12.23257     7.83089  ...     13.01620   \n",
       "1        -24.83777     8.76630    -0.92019    18.76548  ...      5.66812   \n",
       "2        -18.54940    -3.27872    -2.35035    16.07017  ...      3.03800   \n",
       "3        -26.21683     5.05097   -10.34124     3.55005  ...     34.57337   \n",
       "4        -16.81409   -12.48207    -9.37636    12.63699  ...      9.92661   \n",
       "...            ...         ...         ...         ...  ...          ...   \n",
       "515340   -16.36914     2.12652     5.18160    -8.66890  ...      4.81440   \n",
       "515341   -18.52988     7.76108     3.56109    -2.50351  ...     32.38589   \n",
       "515342    -2.28706   -18.40424   -22.28726    -4.52429  ...    -18.73598   \n",
       "515343   -18.67098     8.78428     4.02039   -12.01230  ...     67.16763   \n",
       "515344   -19.95528    -6.72771     2.29590    10.31018  ...    -11.50511   \n",
       "\n",
       "        timbreCov70  timbreCov71  timbreCov72  timbreCov73  timbreCov74  \\\n",
       "0         -54.40548     58.99367     15.37344      1.11144    -23.08793   \n",
       "1         -19.68073     33.04964     42.87836     -9.90378    -32.22788   \n",
       "2          26.05866    -50.92779     10.93792     -0.07568     43.20130   \n",
       "3        -171.70734    -16.96705    -46.67617    -12.51516     82.58061   \n",
       "4         -55.95724     64.92712    -17.72522     -1.49237     -7.50035   \n",
       "...             ...          ...          ...          ...          ...   \n",
       "515340     -3.75991    -30.92584     26.33968     -5.03390     21.86037   \n",
       "515341    -32.75535    -61.05473     56.65182     15.29965     95.88193   \n",
       "515342    -71.15954   -123.98443    121.26989     10.89629     34.62409   \n",
       "515343    282.77624     -4.63677    144.00125     21.62652    -29.72432   \n",
       "515344    -69.18291     60.58456     28.64599     -4.39620    -64.56491   \n",
       "\n",
       "        timbreCov75  timbreCov76  timbreCov77  timbreCov78  \n",
       "0          68.40795     -1.82223    -27.46348      2.26327  \n",
       "1          70.49388     12.04941     58.43453     26.92061  \n",
       "2        -115.00698     -0.05859     39.67068     -0.66345  \n",
       "3         -72.08993      9.90558    199.62971     18.85382  \n",
       "4          51.76631      7.88713     55.66926     28.74903  \n",
       "...             ...          ...          ...          ...  \n",
       "515340   -142.29410      3.42901    -41.14721    -15.46052  \n",
       "515341    -10.63242     12.96552     92.11633     10.88815  \n",
       "515342   -248.61020     -6.07171     53.96319     -8.09364  \n",
       "515343     71.47198     20.32240     14.83107     39.74909  \n",
       "515344    -45.61012     -5.51512     32.35602     12.17352  \n",
       "\n",
       "[515345 rows x 91 columns]"
      ]
     },
     "execution_count": 6,
     "metadata": {},
     "output_type": "execute_result"
    }
   ],
   "source": [
    "df"
   ]
  },
  {
   "cell_type": "code",
   "execution_count": 7,
   "id": "dcabcf64",
   "metadata": {},
   "outputs": [
    {
     "data": {
      "text/plain": [
       "False"
      ]
     },
     "execution_count": 7,
     "metadata": {},
     "output_type": "execute_result"
    }
   ],
   "source": [
    "isna = df.isnull().any().any()\n",
    "isna"
   ]
  },
  {
   "cell_type": "markdown",
   "id": "9feb41ba",
   "metadata": {},
   "source": [
    "Aucune valeur manquante dans tout le dataset"
   ]
  },
  {
   "cell_type": "code",
   "execution_count": 9,
   "id": "ea810b22",
   "metadata": {},
   "outputs": [
    {
     "data": {
      "image/png": "[encoded data removed]",
      "text/plain": [
       "<Figure size 640x480 with 1 Axes>"
      ]
     },
     "metadata": {},
     "output_type": "display_data"
    }
   ],
   "source": [
    "plt.hist(df[\"Year\"], rwidth = 0.75, color = \"green\", bins =20)\n",
    "plt.grid(axis = \"y\", color =\"black\")\n",
    "plt.title('Song repartition', fontsize = 15)\n",
    "plt.show()"
   ]
  },
  {
   "cell_type": "markdown",
   "id": "b8fd8db9",
   "metadata": {},
   "source": [
    "Une majorité des films du dataset sont sorti récemment, les timbres présents devraient donc être plsu ou moins représentatif des années 2000."
   ]
  },
  {
   "cell_type": "code",
   "execution_count": 10,
   "id": "448522bf",
   "metadata": {},
   "outputs": [
    {
     "data": {
      "image/png": "[encoded data removed]",
      "text/plain": [
       "<Figure size 960x480 with 12 Axes>"
      ]
     },
     "metadata": {},
     "output_type": "display_data"
    },
    {
     "data": {
      "image/png": "[encoded data removed]",
      "text/plain": [
       "<Figure size 960x480 with 1 Axes>"
      ]
     },
     "metadata": {},
     "output_type": "display_data"
    }
   ],
   "source": [
    "plt.figure(figsize=(12, 6), dpi=80)\n",
    "plt.subplot(3,4,1)\n",
    "plt.hist(df[\"timbreAvg1\"], rwidth = 0.60)\n",
    "plt.subplot(3,4,2)\n",
    "plt.hist(df[\"timbreAvg2\"], rwidth = 0.60)\n",
    "plt.subplot(3,4,3)\n",
    "\n",
    "plt.hist(df[\"timbreAvg3\"], rwidth = 0.60)\n",
    "plt.subplot(3,4,4)\n",
    "\n",
    "plt.hist(df[\"timbreAvg4\"], rwidth = 0.60)\n",
    "plt.subplot(3,4,5)\n",
    "\n",
    "plt.hist(df[\"timbreAvg5\"], rwidth = 0.60)\n",
    "plt.subplot(3,4,6)\n",
    "\n",
    "plt.hist(df[\"timbreAvg6\"], rwidth = 0.60)\n",
    "plt.subplot(3,4,7)\n",
    "\n",
    "plt.hist(df[\"timbreAvg7\"], rwidth = 0.60)\n",
    "plt.subplot(3,4,8)\n",
    "\n",
    "plt.hist(df[\"timbreAvg8\"], rwidth = 0.60)\n",
    "plt.subplot(3,4,9)\n",
    "\n",
    "plt.hist(df[\"timbreAvg9\"], rwidth = 0.60)\n",
    "plt.subplot(3,4,10)\n",
    "\n",
    "plt.hist(df[\"timbreAvg10\"], rwidth = 0.60)\n",
    "plt.subplot(3,4,11)\n",
    "\n",
    "plt.hist(df[\"timbreAvg11\"], rwidth = 0.60)\n",
    "plt.subplot(3,4,12)\n",
    "\n",
    "plt.hist(df[\"timbreAvg12\"], rwidth = 0.60)\n",
    "plt.figure(figsize=(12, 6), dpi=80)\n",
    "plt.title(\"Timbre repartition according to each timber dimension\", fontsize = 20)\n",
    "plt.hist(df[\"timbreAvg1\"], rwidth = 0.60, alpha = 0.2)\n",
    "plt.hist(df[\"timbreAvg2\"], rwidth = 0.60, alpha = 0.2)\n",
    "plt.hist(df[\"timbreAvg3\"], rwidth = 0.60, alpha = 0.2)\n",
    "plt.hist(df[\"timbreAvg4\"], rwidth = 0.60, alpha = 0.2)\n",
    "plt.hist(df[\"timbreAvg5\"], rwidth = 0.60, alpha = 0.2)\n",
    "plt.hist(df[\"timbreAvg6\"], rwidth = 0.60, alpha = 0.2)\n",
    "plt.hist(df[\"timbreAvg7\"], rwidth = 0.60, alpha = 0.2)\n",
    "plt.hist(df[\"timbreAvg8\"], rwidth = 0.60, alpha = 0.2)\n",
    "plt.hist(df[\"timbreAvg9\"], rwidth = 0.60, alpha = 0.2)\n",
    "plt.hist(df[\"timbreAvg10\"], rwidth = 0.60, alpha = 0.2)\n",
    "plt.hist(df[\"timbreAvg11\"], rwidth = 0.60, alpha = 0.2)\n",
    "plt.hist(df[\"timbreAvg12\"], rwidth = 0.60, alpha = 0.2)\n",
    "plt.xlim(-200,200)\n",
    "plt.grid()\n",
    "plt.show()"
   ]
  },
  {
   "cell_type": "markdown",
   "id": "6fed9980",
   "metadata": {},
   "source": [
    "Selon les recommandantions du site web, on prend les 463 715 pour train le modèle et les autres pour le test"
   ]
  },
  {
   "cell_type": "code",
   "execution_count": 9,
   "id": "76faa39b",
   "metadata": {},
   "outputs": [
    {
     "data": {
      "image/png": "[encoded data removed]",
      "text/plain": [
       "<Figure size 640x480 with 1 Axes>"
      ]
     },
     "metadata": {},
     "output_type": "display_data"
    }
   ],
   "source": [
    "plt.bar(df.columns[1:13],df.apply('mean')[1:13])\n",
    "plt.xticks(rotation =45)\n",
    "plt.show()"
   ]
  },
  {
   "cell_type": "code",
   "execution_count": 10,
   "id": "859ca5db",
   "metadata": {},
   "outputs": [
    {
     "data": {
      "text/plain": [
       "RangeIndex(start=0, stop=515345, step=1)"
      ]
     },
     "execution_count": 10,
     "metadata": {},
     "output_type": "execute_result"
    }
   ],
   "source": [
    "df.index"
   ]
  },
  {
   "cell_type": "code",
   "execution_count": null,
   "id": "63892a86",
   "metadata": {},
   "outputs": [],
   "source": [
    "fig, ax = plt.subplots(figsize=(20,12))\n",
    "ax.bar(df.columns[13:],df.apply('mean')[13:], color = \"red\")\n",
    "ax.set_title(\"Average and Covariance mean according to the dimension\", fontsize = 25)\n",
    "ax.tick_params(axis='x', labelrotation = 70,size =4)\n",
    "\n",
    "ax.set_xlabel(\"cov values according to dimension\")\n",
    "ax.set_ylabel(\"Mean of cov values\")\n",
    "ax2 = fig.add_axes([0.45, 0.35, 0.40, 0.40])\n",
    "ax2.bar(df.columns[1:13],df.apply('mean')[1:13], color=\"lightblue\")\n",
    "ax2.tick_params(axis='x', labelrotation = 45, size = 14)\n",
    "\n",
    "ax2.set_title(\"Average value of AvgTimbre datas\", fontsize = 20)\n",
    "ax2.set_xlabel(\"AvgTimbre dimension\")\n",
    "ax2.set_ylabel(\"Average Timbre value\")\n",
    "plt.show()"
   ]
  },
  {
   "cell_type": "markdown",
   "id": "d391c62c",
   "metadata": {},
   "source": [
    "On observe que généralement, le timbre moyen est égal à zéro, ce qui est plutot logique au vue du nombre de son important présent dans le dataset. Ensuite, on observe que les covariances des timbres sont élevés pour les premières valeures."
   ]
  },
  {
   "cell_type": "code",
   "execution_count": 12,
   "id": "5b893068",
   "metadata": {},
   "outputs": [
    {
     "data": {
      "text/html": [
       "<div>\n",
       "<style scoped>\n",
       "    .dataframe tbody tr th:only-of-type {\n",
       "        vertical-align: middle;\n",
       "    }\n",
       "\n",
       "    .dataframe tbody tr th {\n",
       "        vertical-align: top;\n",
       "    }\n",
       "\n",
       "    .dataframe thead th {\n",
       "        text-align: right;\n",
       "    }\n",
       "</style>\n",
       "<table border=\"1\" class=\"dataframe\">\n",
       "  <thead>\n",
       "    <tr style=\"text-align: right;\">\n",
       "      <th></th>\n",
       "      <th>timbreAvg1</th>\n",
       "      <th>timbreAvg2</th>\n",
       "      <th>timbreAvg3</th>\n",
       "      <th>timbreAvg4</th>\n",
       "      <th>timbreAvg5</th>\n",
       "      <th>timbreAvg6</th>\n",
       "      <th>timbreAvg7</th>\n",
       "      <th>timbreAvg8</th>\n",
       "      <th>timbreAvg9</th>\n",
       "      <th>timbreAvg10</th>\n",
       "      <th>...</th>\n",
       "      <th>timbreCov69</th>\n",
       "      <th>timbreCov70</th>\n",
       "      <th>timbreCov71</th>\n",
       "      <th>timbreCov72</th>\n",
       "      <th>timbreCov73</th>\n",
       "      <th>timbreCov74</th>\n",
       "      <th>timbreCov75</th>\n",
       "      <th>timbreCov76</th>\n",
       "      <th>timbreCov77</th>\n",
       "      <th>timbreCov78</th>\n",
       "    </tr>\n",
       "    <tr>\n",
       "      <th>Year</th>\n",
       "      <th></th>\n",
       "      <th></th>\n",
       "      <th></th>\n",
       "      <th></th>\n",
       "      <th></th>\n",
       "      <th></th>\n",
       "      <th></th>\n",
       "      <th></th>\n",
       "      <th></th>\n",
       "      <th></th>\n",
       "      <th></th>\n",
       "      <th></th>\n",
       "      <th></th>\n",
       "      <th></th>\n",
       "      <th></th>\n",
       "      <th></th>\n",
       "      <th></th>\n",
       "      <th></th>\n",
       "      <th></th>\n",
       "      <th></th>\n",
       "      <th></th>\n",
       "    </tr>\n",
       "  </thead>\n",
       "  <tbody>\n",
       "    <tr>\n",
       "      <th>2001</th>\n",
       "      <td>49.756715</td>\n",
       "      <td>20.882764</td>\n",
       "      <td>63.049816</td>\n",
       "      <td>12.287919</td>\n",
       "      <td>-12.937015</td>\n",
       "      <td>-19.348559</td>\n",
       "      <td>2.064967</td>\n",
       "      <td>-5.019871</td>\n",
       "      <td>14.103676</td>\n",
       "      <td>1.59302</td>\n",
       "      <td>...</td>\n",
       "      <td>13.523556</td>\n",
       "      <td>-37.474826</td>\n",
       "      <td>12.176898</td>\n",
       "      <td>11.762321</td>\n",
       "      <td>-2.637089</td>\n",
       "      <td>21.039339</td>\n",
       "      <td>-7.842234</td>\n",
       "      <td>5.558459</td>\n",
       "      <td>41.575364</td>\n",
       "      <td>9.705725</td>\n",
       "    </tr>\n",
       "    <tr>\n",
       "      <th>2002</th>\n",
       "      <td>37.664980</td>\n",
       "      <td>-34.059100</td>\n",
       "      <td>-17.360600</td>\n",
       "      <td>-26.777810</td>\n",
       "      <td>-39.951190</td>\n",
       "      <td>-20.750000</td>\n",
       "      <td>-0.102310</td>\n",
       "      <td>-0.899720</td>\n",
       "      <td>-1.302050</td>\n",
       "      <td>-0.93041</td>\n",
       "      <td>...</td>\n",
       "      <td>11.189090</td>\n",
       "      <td>45.206140</td>\n",
       "      <td>53.839250</td>\n",
       "      <td>2.594670</td>\n",
       "      <td>-4.009580</td>\n",
       "      <td>-47.748860</td>\n",
       "      <td>-170.928640</td>\n",
       "      <td>-5.190090</td>\n",
       "      <td>8.836170</td>\n",
       "      <td>-7.160560</td>\n",
       "    </tr>\n",
       "    <tr>\n",
       "      <th>2004</th>\n",
       "      <td>26.519570</td>\n",
       "      <td>-148.157620</td>\n",
       "      <td>-13.300950</td>\n",
       "      <td>-7.258510</td>\n",
       "      <td>17.220290</td>\n",
       "      <td>-21.994390</td>\n",
       "      <td>5.519470</td>\n",
       "      <td>3.484180</td>\n",
       "      <td>2.617380</td>\n",
       "      <td>2.51194</td>\n",
       "      <td>...</td>\n",
       "      <td>23.804420</td>\n",
       "      <td>251.763600</td>\n",
       "      <td>18.816420</td>\n",
       "      <td>157.096560</td>\n",
       "      <td>-27.794490</td>\n",
       "      <td>-137.727400</td>\n",
       "      <td>115.284140</td>\n",
       "      <td>23.002300</td>\n",
       "      <td>-164.025360</td>\n",
       "      <td>51.541380</td>\n",
       "    </tr>\n",
       "    <tr>\n",
       "      <th>2007</th>\n",
       "      <td>45.178090</td>\n",
       "      <td>46.342340</td>\n",
       "      <td>-40.653570</td>\n",
       "      <td>-2.479090</td>\n",
       "      <td>1.212530</td>\n",
       "      <td>-0.653020</td>\n",
       "      <td>-6.955360</td>\n",
       "      <td>-12.200400</td>\n",
       "      <td>17.025120</td>\n",
       "      <td>2.00002</td>\n",
       "      <td>...</td>\n",
       "      <td>-4.367420</td>\n",
       "      <td>-87.552850</td>\n",
       "      <td>-70.796770</td>\n",
       "      <td>76.573550</td>\n",
       "      <td>-7.717270</td>\n",
       "      <td>3.269260</td>\n",
       "      <td>-298.498450</td>\n",
       "      <td>11.493260</td>\n",
       "      <td>-89.218040</td>\n",
       "      <td>-15.097190</td>\n",
       "    </tr>\n",
       "    <tr>\n",
       "      <th>2008</th>\n",
       "      <td>39.130760</td>\n",
       "      <td>-23.017630</td>\n",
       "      <td>-36.205830</td>\n",
       "      <td>1.675190</td>\n",
       "      <td>-4.271010</td>\n",
       "      <td>13.011580</td>\n",
       "      <td>8.057180</td>\n",
       "      <td>-8.410880</td>\n",
       "      <td>6.273700</td>\n",
       "      <td>-7.81564</td>\n",
       "      <td>...</td>\n",
       "      <td>32.860510</td>\n",
       "      <td>-26.084610</td>\n",
       "      <td>-186.824290</td>\n",
       "      <td>113.581760</td>\n",
       "      <td>9.287270</td>\n",
       "      <td>44.602820</td>\n",
       "      <td>158.004250</td>\n",
       "      <td>-2.595430</td>\n",
       "      <td>109.197230</td>\n",
       "      <td>23.361430</td>\n",
       "    </tr>\n",
       "  </tbody>\n",
       "</table>\n",
       "<p>5 rows × 90 columns</p>\n",
       "</div>"
      ],
      "text/plain": [
       "      timbreAvg1  timbreAvg2  timbreAvg3  timbreAvg4  timbreAvg5  timbreAvg6  \\\n",
       "Year                                                                           \n",
       "2001   49.756715   20.882764   63.049816   12.287919  -12.937015  -19.348559   \n",
       "2002   37.664980  -34.059100  -17.360600  -26.777810  -39.951190  -20.750000   \n",
       "2004   26.519570 -148.157620  -13.300950   -7.258510   17.220290  -21.994390   \n",
       "2007   45.178090   46.342340  -40.653570   -2.479090    1.212530   -0.653020   \n",
       "2008   39.130760  -23.017630  -36.205830    1.675190   -4.271010   13.011580   \n",
       "\n",
       "      timbreAvg7  timbreAvg8  timbreAvg9  timbreAvg10  ...  timbreCov69  \\\n",
       "Year                                                   ...                \n",
       "2001    2.064967   -5.019871   14.103676      1.59302  ...    13.523556   \n",
       "2002   -0.102310   -0.899720   -1.302050     -0.93041  ...    11.189090   \n",
       "2004    5.519470    3.484180    2.617380      2.51194  ...    23.804420   \n",
       "2007   -6.955360  -12.200400   17.025120      2.00002  ...    -4.367420   \n",
       "2008    8.057180   -8.410880    6.273700     -7.81564  ...    32.860510   \n",
       "\n",
       "      timbreCov70  timbreCov71  timbreCov72  timbreCov73  timbreCov74  \\\n",
       "Year                                                                    \n",
       "2001   -37.474826    12.176898    11.762321    -2.637089    21.039339   \n",
       "2002    45.206140    53.839250     2.594670    -4.009580   -47.748860   \n",
       "2004   251.763600    18.816420   157.096560   -27.794490  -137.727400   \n",
       "2007   -87.552850   -70.796770    76.573550    -7.717270     3.269260   \n",
       "2008   -26.084610  -186.824290   113.581760     9.287270    44.602820   \n",
       "\n",
       "      timbreCov75  timbreCov76  timbreCov77  timbreCov78  \n",
       "Year                                                      \n",
       "2001    -7.842234     5.558459    41.575364     9.705725  \n",
       "2002  -170.928640    -5.190090     8.836170    -7.160560  \n",
       "2004   115.284140    23.002300  -164.025360    51.541380  \n",
       "2007  -298.498450    11.493260   -89.218040   -15.097190  \n",
       "2008   158.004250    -2.595430   109.197230    23.361430  \n",
       "\n",
       "[5 rows x 90 columns]"
      ]
     },
     "execution_count": 12,
     "metadata": {},
     "output_type": "execute_result"
    }
   ],
   "source": []
  },
  {
   "cell_type": "code",
   "execution_count": 13,
   "id": "745e910b",
   "metadata": {},
   "outputs": [
    {
     "data": {
      "image/png": "[encoded data removed]",
      "text/plain": [
       "<Figure size 640x480 with 2 Axes>"
      ]
     },
     "metadata": {},
     "output_type": "display_data"
    }
   ],
   "source": [
    "ax = plt.axes()\n",
    "cmap = sns.diverging_palette(230, 20, as_cmap=True)\n",
    "\n",
    "sns.heatmap(htmp,  cmap = cmap, vmax=2000)\n",
    "ax.set_title(\"\")\n",
    "plt.xticks(rotation = 45)\n",
    "plt.xlabel('oui')\n",
    "plt.show()"
   ]
  },
  {
   "cell_type": "markdown",
   "id": "7a6db129",
   "metadata": {},
   "source": [
    "## Pre-Processing"
   ]
  },
  {
   "cell_type": "code",
   "execution_count": 6,
   "id": "6a337396",
   "metadata": {},
   "outputs": [],
   "source": [
    "from sklearn.preprocessing import StandardScaler"
   ]
  },
  {
   "cell_type": "markdown",
   "id": "b6490e9b",
   "metadata": {},
   "source": [
    "On commence par repérer les colonnes ayant le plsu d'impact sur l'année de sortie des musiques :"
   ]
  },
  {
   "cell_type": "code",
   "execution_count": 18,
   "id": "025a839c",
   "metadata": {},
   "outputs": [
    {
     "data": {
      "text/plain": [
       "{'Year': 1.0,\n",
       " 'timbreAvg1': 0.22537353164518337,\n",
       " 'timbreAvg2': 0.021401940477797015,\n",
       " 'timbreAvg3': 0.13954090039294345,\n",
       " 'timbreAvg4': 0.0032859307180200257,\n",
       " 'timbreAvg5': 0.019338101759556525,\n",
       " 'timbreAvg6': 0.1874431648512642,\n",
       " 'timbreAvg7': 0.11045983325926222,\n",
       " 'timbreAvg8': 0.034976609716791285,\n",
       " 'timbreAvg9': 0.0247957856341288,\n",
       " 'timbreAvg10': 0.03317958273460242,\n",
       " 'timbreAvg11': 0.030513943712833794,\n",
       " 'timbreAvg12': 0.09716369584282254,\n",
       " 'timbreCov1': 0.023283586485626846,\n",
       " 'timbreCov2': 0.07869981810536075,\n",
       " 'timbreCov3': 0.00722878555823675,\n",
       " 'timbreCov4': 0.032828611633246345,\n",
       " 'timbreCov5': 0.030660635453201423,\n",
       " 'timbreCov6': 0.021965066162753285,\n",
       " 'timbreCov7': 0.004511553117961425,\n",
       " 'timbreCov8': 0.08705678129023858,\n",
       " 'timbreCov9': 0.056664136856091916,\n",
       " 'timbreCov10': 0.04973552978206279,\n",
       " 'timbreCov11': 0.046367427191148336,\n",
       " 'timbreCov12': 0.05819999492550137,\n",
       " 'timbreCov13': 0.06471288534113837,\n",
       " 'timbreCov14': 0.018138800158698527,\n",
       " 'timbreCov15': 0.023176845415763234,\n",
       " 'timbreCov16': 0.00878392410644477,\n",
       " 'timbreCov17': 0.07332697559998315,\n",
       " 'timbreCov18': 0.017850768206833203,\n",
       " 'timbreCov19': 0.07392780024356414,\n",
       " 'timbreCov20': 0.027000322002082123,\n",
       " 'timbreCov21': 0.09118605894300051,\n",
       " 'timbreCov22': 0.04304699318377191,\n",
       " 'timbreCov23': 0.04396705647110742,\n",
       " 'timbreCov24': 0.10100656683506508,\n",
       " 'timbreCov25': 0.04128357719712906,\n",
       " 'timbreCov26': 0.0744236442556499,\n",
       " 'timbreCov27': 0.07033970619662454,\n",
       " 'timbreCov28': 0.12397442859538806,\n",
       " 'timbreCov29': 0.060817725018086105,\n",
       " 'timbreCov30': 0.014304976049661978,\n",
       " 'timbreCov31': 0.00037493515927372004,\n",
       " 'timbreCov32': 0.013014651990747911,\n",
       " 'timbreCov33': 0.012700041660309159,\n",
       " 'timbreCov34': 0.10132443342515302,\n",
       " 'timbreCov35': 0.09608812618833854,\n",
       " 'timbreCov36': 0.04684226961068926,\n",
       " 'timbreCov37': 0.03236214392012766,\n",
       " 'timbreCov38': 0.06292533593794097,\n",
       " 'timbreCov39': 0.02681341206280979,\n",
       " 'timbreCov40': 0.05308183296487446,\n",
       " 'timbreCov41': 0.0740516312982781,\n",
       " 'timbreCov42': 0.04761606798974589,\n",
       " 'timbreCov43': 0.011094764193989448,\n",
       " 'timbreCov44': 0.007191543349206976,\n",
       " 'timbreCov45': 0.09697331002958723,\n",
       " 'timbreCov46': 0.004997118139038756,\n",
       " 'timbreCov47': 0.09274697824523433,\n",
       " 'timbreCov48': 0.06716394112046441,\n",
       " 'timbreCov49': 0.02485138102215787,\n",
       " 'timbreCov50': 0.04364884592713443,\n",
       " 'timbreCov51': 0.12634841300434788,\n",
       " 'timbreCov52': 0.00039608995369991155,\n",
       " 'timbreCov53': 0.03902889727130724,\n",
       " 'timbreCov54': 0.05440976556506893,\n",
       " 'timbreCov55': 0.10284108120544386,\n",
       " 'timbreCov56': 0.08134142588775663,\n",
       " 'timbreCov57': 0.09948369702987805,\n",
       " 'timbreCov58': 0.04704174846364321,\n",
       " 'timbreCov59': 0.0060235542957712,\n",
       " 'timbreCov60': 0.06827202093065518,\n",
       " 'timbreCov61': 0.08375454592854494,\n",
       " 'timbreCov62': 0.08174813417604453,\n",
       " 'timbreCov63': 0.028522920113514077,\n",
       " 'timbreCov64': 0.012844524485243246,\n",
       " 'timbreCov65': 0.014097618251158182,\n",
       " 'timbreCov66': 0.087385677414261,\n",
       " 'timbreCov67': 0.031391792334820076,\n",
       " 'timbreCov68': 0.00489048990862387,\n",
       " 'timbreCov69': 0.04006862964132308,\n",
       " 'timbreCov70': 0.002491879245173628,\n",
       " 'timbreCov71': 0.014040704911271297,\n",
       " 'timbreCov72': 0.027609863268316482,\n",
       " 'timbreCov73': 0.05947704705392907,\n",
       " 'timbreCov74': 0.053547962794526734,\n",
       " 'timbreCov75': 0.024588867276713635,\n",
       " 'timbreCov76': 0.03743227167022336,\n",
       " 'timbreCov77': 0.008380161537578054,\n",
       " 'timbreCov78': 0.05648534946393485}"
      ]
     },
     "execution_count": 18,
     "metadata": {},
     "output_type": "execute_result"
    }
   ],
   "source": [
    "dico = {}\n",
    "for elem in df.columns :\n",
    "    dico[elem] = abs(df['Year'].corr(df[elem]))\n",
    "dico"
   ]
  },
  {
   "cell_type": "code",
   "execution_count": 19,
   "id": "21fbec07",
   "metadata": {},
   "outputs": [
    {
     "data": {
      "text/html": [
       "<div>\n",
       "<style scoped>\n",
       "    .dataframe tbody tr th:only-of-type {\n",
       "        vertical-align: middle;\n",
       "    }\n",
       "\n",
       "    .dataframe tbody tr th {\n",
       "        vertical-align: top;\n",
       "    }\n",
       "\n",
       "    .dataframe thead th {\n",
       "        text-align: right;\n",
       "    }\n",
       "</style>\n",
       "<table border=\"1\" class=\"dataframe\">\n",
       "  <thead>\n",
       "    <tr style=\"text-align: right;\">\n",
       "      <th></th>\n",
       "      <th>0</th>\n",
       "    </tr>\n",
       "  </thead>\n",
       "  <tbody>\n",
       "    <tr>\n",
       "      <th>timbreAvg1</th>\n",
       "      <td>0.225374</td>\n",
       "    </tr>\n",
       "    <tr>\n",
       "      <th>timbreAvg2</th>\n",
       "      <td>0.021402</td>\n",
       "    </tr>\n",
       "    <tr>\n",
       "      <th>timbreAvg3</th>\n",
       "      <td>0.139541</td>\n",
       "    </tr>\n",
       "    <tr>\n",
       "      <th>timbreAvg4</th>\n",
       "      <td>0.003286</td>\n",
       "    </tr>\n",
       "    <tr>\n",
       "      <th>timbreAvg5</th>\n",
       "      <td>0.019338</td>\n",
       "    </tr>\n",
       "    <tr>\n",
       "      <th>...</th>\n",
       "      <td>...</td>\n",
       "    </tr>\n",
       "    <tr>\n",
       "      <th>timbreCov74</th>\n",
       "      <td>0.053548</td>\n",
       "    </tr>\n",
       "    <tr>\n",
       "      <th>timbreCov75</th>\n",
       "      <td>0.024589</td>\n",
       "    </tr>\n",
       "    <tr>\n",
       "      <th>timbreCov76</th>\n",
       "      <td>0.037432</td>\n",
       "    </tr>\n",
       "    <tr>\n",
       "      <th>timbreCov77</th>\n",
       "      <td>0.008380</td>\n",
       "    </tr>\n",
       "    <tr>\n",
       "      <th>timbreCov78</th>\n",
       "      <td>0.056485</td>\n",
       "    </tr>\n",
       "  </tbody>\n",
       "</table>\n",
       "<p>90 rows × 1 columns</p>\n",
       "</div>"
      ],
      "text/plain": [
       "                    0\n",
       "timbreAvg1   0.225374\n",
       "timbreAvg2   0.021402\n",
       "timbreAvg3   0.139541\n",
       "timbreAvg4   0.003286\n",
       "timbreAvg5   0.019338\n",
       "...               ...\n",
       "timbreCov74  0.053548\n",
       "timbreCov75  0.024589\n",
       "timbreCov76  0.037432\n",
       "timbreCov77  0.008380\n",
       "timbreCov78  0.056485\n",
       "\n",
       "[90 rows x 1 columns]"
      ]
     },
     "execution_count": 19,
     "metadata": {},
     "output_type": "execute_result"
    }
   ],
   "source": [
    "htmp = pd.DataFrame.from_dict(dico, orient = 'index')\n",
    "htmp[1:]"
   ]
  },
  {
   "cell_type": "code",
   "execution_count": 20,
   "id": "348d04af",
   "metadata": {},
   "outputs": [
    {
     "data": {
      "text/html": [
       "<div>\n",
       "<style scoped>\n",
       "    .dataframe tbody tr th:only-of-type {\n",
       "        vertical-align: middle;\n",
       "    }\n",
       "\n",
       "    .dataframe tbody tr th {\n",
       "        vertical-align: top;\n",
       "    }\n",
       "\n",
       "    .dataframe thead th {\n",
       "        text-align: right;\n",
       "    }\n",
       "</style>\n",
       "<table border=\"1\" class=\"dataframe\">\n",
       "  <thead>\n",
       "    <tr style=\"text-align: right;\">\n",
       "      <th></th>\n",
       "      <th>0</th>\n",
       "    </tr>\n",
       "  </thead>\n",
       "  <tbody>\n",
       "    <tr>\n",
       "      <th>timbreAvg1</th>\n",
       "      <td>0.225374</td>\n",
       "    </tr>\n",
       "    <tr>\n",
       "      <th>timbreAvg6</th>\n",
       "      <td>0.187443</td>\n",
       "    </tr>\n",
       "    <tr>\n",
       "      <th>timbreAvg3</th>\n",
       "      <td>0.139541</td>\n",
       "    </tr>\n",
       "    <tr>\n",
       "      <th>timbreCov51</th>\n",
       "      <td>0.126348</td>\n",
       "    </tr>\n",
       "    <tr>\n",
       "      <th>timbreCov28</th>\n",
       "      <td>0.123974</td>\n",
       "    </tr>\n",
       "    <tr>\n",
       "      <th>timbreAvg7</th>\n",
       "      <td>0.110460</td>\n",
       "    </tr>\n",
       "    <tr>\n",
       "      <th>timbreCov55</th>\n",
       "      <td>0.102841</td>\n",
       "    </tr>\n",
       "    <tr>\n",
       "      <th>timbreCov34</th>\n",
       "      <td>0.101324</td>\n",
       "    </tr>\n",
       "    <tr>\n",
       "      <th>timbreCov24</th>\n",
       "      <td>0.101007</td>\n",
       "    </tr>\n",
       "    <tr>\n",
       "      <th>timbreCov57</th>\n",
       "      <td>0.099484</td>\n",
       "    </tr>\n",
       "  </tbody>\n",
       "</table>\n",
       "</div>"
      ],
      "text/plain": [
       "                    0\n",
       "timbreAvg1   0.225374\n",
       "timbreAvg6   0.187443\n",
       "timbreAvg3   0.139541\n",
       "timbreCov51  0.126348\n",
       "timbreCov28  0.123974\n",
       "timbreAvg7   0.110460\n",
       "timbreCov55  0.102841\n",
       "timbreCov34  0.101324\n",
       "timbreCov24  0.101007\n",
       "timbreCov57  0.099484"
      ]
     },
     "execution_count": 20,
     "metadata": {},
     "output_type": "execute_result"
    }
   ],
   "source": [
    "htmp[1:].sort_values(0, ascending = False).head(10)"
   ]
  },
  {
   "cell_type": "code",
   "execution_count": 21,
   "id": "1c24a4d8",
   "metadata": {},
   "outputs": [
    {
     "data": {
      "image/png": "[encoded data removed]",
      "text/plain": [
       "<Figure size 640x480 with 2 Axes>"
      ]
     },
     "metadata": {},
     "output_type": "display_data"
    }
   ],
   "source": [
    "sns.heatmap(htmp[1:].sort_values(0, ascending = False).head(25),  cmap = \"Reds\", annot = True,fmt=\".3f\", annot_kws={'size': 8}).set(title='Column correlation with the Year column')\n",
    "plt.show()"
   ]
  },
  {
   "cell_type": "markdown",
   "id": "b55ceca4",
   "metadata": {},
   "source": [
    "On obtient ainsi les 10 premières colonnes les plus impactantes dans l'année de sortie"
   ]
  },
  {
   "cell_type": "code",
   "execution_count": 7,
   "id": "ca63ce9f",
   "metadata": {},
   "outputs": [
    {
     "data": {
      "text/html": [
       "<div>\n",
       "<style scoped>\n",
       "    .dataframe tbody tr th:only-of-type {\n",
       "        vertical-align: middle;\n",
       "    }\n",
       "\n",
       "    .dataframe tbody tr th {\n",
       "        vertical-align: top;\n",
       "    }\n",
       "\n",
       "    .dataframe thead th {\n",
       "        text-align: right;\n",
       "    }\n",
       "</style>\n",
       "<table border=\"1\" class=\"dataframe\">\n",
       "  <thead>\n",
       "    <tr style=\"text-align: right;\">\n",
       "      <th></th>\n",
       "      <th>timbreAvg1</th>\n",
       "      <th>timbreAvg2</th>\n",
       "      <th>timbreAvg3</th>\n",
       "      <th>timbreAvg4</th>\n",
       "      <th>timbreAvg5</th>\n",
       "      <th>timbreAvg6</th>\n",
       "      <th>timbreAvg7</th>\n",
       "      <th>timbreAvg8</th>\n",
       "      <th>timbreAvg9</th>\n",
       "      <th>timbreAvg10</th>\n",
       "      <th>...</th>\n",
       "      <th>timbreCov69</th>\n",
       "      <th>timbreCov70</th>\n",
       "      <th>timbreCov71</th>\n",
       "      <th>timbreCov72</th>\n",
       "      <th>timbreCov73</th>\n",
       "      <th>timbreCov74</th>\n",
       "      <th>timbreCov75</th>\n",
       "      <th>timbreCov76</th>\n",
       "      <th>timbreCov77</th>\n",
       "      <th>timbreCov78</th>\n",
       "    </tr>\n",
       "  </thead>\n",
       "  <tbody>\n",
       "    <tr>\n",
       "      <th>0</th>\n",
       "      <td>49.94357</td>\n",
       "      <td>21.47114</td>\n",
       "      <td>73.07750</td>\n",
       "      <td>8.74861</td>\n",
       "      <td>-17.40628</td>\n",
       "      <td>-13.09905</td>\n",
       "      <td>-25.01202</td>\n",
       "      <td>-12.23257</td>\n",
       "      <td>7.83089</td>\n",
       "      <td>-2.46783</td>\n",
       "      <td>...</td>\n",
       "      <td>13.01620</td>\n",
       "      <td>-54.40548</td>\n",
       "      <td>58.99367</td>\n",
       "      <td>15.37344</td>\n",
       "      <td>1.11144</td>\n",
       "      <td>-23.08793</td>\n",
       "      <td>68.40795</td>\n",
       "      <td>-1.82223</td>\n",
       "      <td>-27.46348</td>\n",
       "      <td>2.26327</td>\n",
       "    </tr>\n",
       "    <tr>\n",
       "      <th>1</th>\n",
       "      <td>48.73215</td>\n",
       "      <td>18.42930</td>\n",
       "      <td>70.32679</td>\n",
       "      <td>12.94636</td>\n",
       "      <td>-10.32437</td>\n",
       "      <td>-24.83777</td>\n",
       "      <td>8.76630</td>\n",
       "      <td>-0.92019</td>\n",
       "      <td>18.76548</td>\n",
       "      <td>4.59210</td>\n",
       "      <td>...</td>\n",
       "      <td>5.66812</td>\n",
       "      <td>-19.68073</td>\n",
       "      <td>33.04964</td>\n",
       "      <td>42.87836</td>\n",
       "      <td>-9.90378</td>\n",
       "      <td>-32.22788</td>\n",
       "      <td>70.49388</td>\n",
       "      <td>12.04941</td>\n",
       "      <td>58.43453</td>\n",
       "      <td>26.92061</td>\n",
       "    </tr>\n",
       "    <tr>\n",
       "      <th>2</th>\n",
       "      <td>50.95714</td>\n",
       "      <td>31.85602</td>\n",
       "      <td>55.81851</td>\n",
       "      <td>13.41693</td>\n",
       "      <td>-6.57898</td>\n",
       "      <td>-18.54940</td>\n",
       "      <td>-3.27872</td>\n",
       "      <td>-2.35035</td>\n",
       "      <td>16.07017</td>\n",
       "      <td>1.39518</td>\n",
       "      <td>...</td>\n",
       "      <td>3.03800</td>\n",
       "      <td>26.05866</td>\n",
       "      <td>-50.92779</td>\n",
       "      <td>10.93792</td>\n",
       "      <td>-0.07568</td>\n",
       "      <td>43.20130</td>\n",
       "      <td>-115.00698</td>\n",
       "      <td>-0.05859</td>\n",
       "      <td>39.67068</td>\n",
       "      <td>-0.66345</td>\n",
       "    </tr>\n",
       "    <tr>\n",
       "      <th>3</th>\n",
       "      <td>48.24750</td>\n",
       "      <td>-1.89837</td>\n",
       "      <td>36.29772</td>\n",
       "      <td>2.58776</td>\n",
       "      <td>0.97170</td>\n",
       "      <td>-26.21683</td>\n",
       "      <td>5.05097</td>\n",
       "      <td>-10.34124</td>\n",
       "      <td>3.55005</td>\n",
       "      <td>-6.36304</td>\n",
       "      <td>...</td>\n",
       "      <td>34.57337</td>\n",
       "      <td>-171.70734</td>\n",
       "      <td>-16.96705</td>\n",
       "      <td>-46.67617</td>\n",
       "      <td>-12.51516</td>\n",
       "      <td>82.58061</td>\n",
       "      <td>-72.08993</td>\n",
       "      <td>9.90558</td>\n",
       "      <td>199.62971</td>\n",
       "      <td>18.85382</td>\n",
       "    </tr>\n",
       "    <tr>\n",
       "      <th>4</th>\n",
       "      <td>50.97020</td>\n",
       "      <td>42.20998</td>\n",
       "      <td>67.09964</td>\n",
       "      <td>8.46791</td>\n",
       "      <td>-15.85279</td>\n",
       "      <td>-16.81409</td>\n",
       "      <td>-12.48207</td>\n",
       "      <td>-9.37636</td>\n",
       "      <td>12.63699</td>\n",
       "      <td>0.93609</td>\n",
       "      <td>...</td>\n",
       "      <td>9.92661</td>\n",
       "      <td>-55.95724</td>\n",
       "      <td>64.92712</td>\n",
       "      <td>-17.72522</td>\n",
       "      <td>-1.49237</td>\n",
       "      <td>-7.50035</td>\n",
       "      <td>51.76631</td>\n",
       "      <td>7.88713</td>\n",
       "      <td>55.66926</td>\n",
       "      <td>28.74903</td>\n",
       "    </tr>\n",
       "    <tr>\n",
       "      <th>...</th>\n",
       "      <td>...</td>\n",
       "      <td>...</td>\n",
       "      <td>...</td>\n",
       "      <td>...</td>\n",
       "      <td>...</td>\n",
       "      <td>...</td>\n",
       "      <td>...</td>\n",
       "      <td>...</td>\n",
       "      <td>...</td>\n",
       "      <td>...</td>\n",
       "      <td>...</td>\n",
       "      <td>...</td>\n",
       "      <td>...</td>\n",
       "      <td>...</td>\n",
       "      <td>...</td>\n",
       "      <td>...</td>\n",
       "      <td>...</td>\n",
       "      <td>...</td>\n",
       "      <td>...</td>\n",
       "      <td>...</td>\n",
       "      <td>...</td>\n",
       "    </tr>\n",
       "    <tr>\n",
       "      <th>515340</th>\n",
       "      <td>51.28467</td>\n",
       "      <td>45.88068</td>\n",
       "      <td>22.19582</td>\n",
       "      <td>-5.53319</td>\n",
       "      <td>-3.61835</td>\n",
       "      <td>-16.36914</td>\n",
       "      <td>2.12652</td>\n",
       "      <td>5.18160</td>\n",
       "      <td>-8.66890</td>\n",
       "      <td>2.67217</td>\n",
       "      <td>...</td>\n",
       "      <td>4.81440</td>\n",
       "      <td>-3.75991</td>\n",
       "      <td>-30.92584</td>\n",
       "      <td>26.33968</td>\n",
       "      <td>-5.03390</td>\n",
       "      <td>21.86037</td>\n",
       "      <td>-142.29410</td>\n",
       "      <td>3.42901</td>\n",
       "      <td>-41.14721</td>\n",
       "      <td>-15.46052</td>\n",
       "    </tr>\n",
       "    <tr>\n",
       "      <th>515341</th>\n",
       "      <td>49.87870</td>\n",
       "      <td>37.93125</td>\n",
       "      <td>18.65987</td>\n",
       "      <td>-3.63581</td>\n",
       "      <td>-27.75665</td>\n",
       "      <td>-18.52988</td>\n",
       "      <td>7.76108</td>\n",
       "      <td>3.56109</td>\n",
       "      <td>-2.50351</td>\n",
       "      <td>2.20175</td>\n",
       "      <td>...</td>\n",
       "      <td>32.38589</td>\n",
       "      <td>-32.75535</td>\n",
       "      <td>-61.05473</td>\n",
       "      <td>56.65182</td>\n",
       "      <td>15.29965</td>\n",
       "      <td>95.88193</td>\n",
       "      <td>-10.63242</td>\n",
       "      <td>12.96552</td>\n",
       "      <td>92.11633</td>\n",
       "      <td>10.88815</td>\n",
       "    </tr>\n",
       "    <tr>\n",
       "      <th>515342</th>\n",
       "      <td>45.12852</td>\n",
       "      <td>12.65758</td>\n",
       "      <td>-38.72018</td>\n",
       "      <td>8.80882</td>\n",
       "      <td>-29.29985</td>\n",
       "      <td>-2.28706</td>\n",
       "      <td>-18.40424</td>\n",
       "      <td>-22.28726</td>\n",
       "      <td>-4.52429</td>\n",
       "      <td>-11.46411</td>\n",
       "      <td>...</td>\n",
       "      <td>-18.73598</td>\n",
       "      <td>-71.15954</td>\n",
       "      <td>-123.98443</td>\n",
       "      <td>121.26989</td>\n",
       "      <td>10.89629</td>\n",
       "      <td>34.62409</td>\n",
       "      <td>-248.61020</td>\n",
       "      <td>-6.07171</td>\n",
       "      <td>53.96319</td>\n",
       "      <td>-8.09364</td>\n",
       "    </tr>\n",
       "    <tr>\n",
       "      <th>515343</th>\n",
       "      <td>44.16614</td>\n",
       "      <td>32.38368</td>\n",
       "      <td>-3.34971</td>\n",
       "      <td>-2.49165</td>\n",
       "      <td>-19.59278</td>\n",
       "      <td>-18.67098</td>\n",
       "      <td>8.78428</td>\n",
       "      <td>4.02039</td>\n",
       "      <td>-12.01230</td>\n",
       "      <td>-0.74075</td>\n",
       "      <td>...</td>\n",
       "      <td>67.16763</td>\n",
       "      <td>282.77624</td>\n",
       "      <td>-4.63677</td>\n",
       "      <td>144.00125</td>\n",
       "      <td>21.62652</td>\n",
       "      <td>-29.72432</td>\n",
       "      <td>71.47198</td>\n",
       "      <td>20.32240</td>\n",
       "      <td>14.83107</td>\n",
       "      <td>39.74909</td>\n",
       "    </tr>\n",
       "    <tr>\n",
       "      <th>515344</th>\n",
       "      <td>51.85726</td>\n",
       "      <td>59.11655</td>\n",
       "      <td>26.39436</td>\n",
       "      <td>-5.46030</td>\n",
       "      <td>-20.69012</td>\n",
       "      <td>-19.95528</td>\n",
       "      <td>-6.72771</td>\n",
       "      <td>2.29590</td>\n",
       "      <td>10.31018</td>\n",
       "      <td>6.26597</td>\n",
       "      <td>...</td>\n",
       "      <td>-11.50511</td>\n",
       "      <td>-69.18291</td>\n",
       "      <td>60.58456</td>\n",
       "      <td>28.64599</td>\n",
       "      <td>-4.39620</td>\n",
       "      <td>-64.56491</td>\n",
       "      <td>-45.61012</td>\n",
       "      <td>-5.51512</td>\n",
       "      <td>32.35602</td>\n",
       "      <td>12.17352</td>\n",
       "    </tr>\n",
       "  </tbody>\n",
       "</table>\n",
       "<p>515345 rows × 90 columns</p>\n",
       "</div>"
      ],
      "text/plain": [
       "        timbreAvg1  timbreAvg2  timbreAvg3  timbreAvg4  timbreAvg5  \\\n",
       "0         49.94357    21.47114    73.07750     8.74861   -17.40628   \n",
       "1         48.73215    18.42930    70.32679    12.94636   -10.32437   \n",
       "2         50.95714    31.85602    55.81851    13.41693    -6.57898   \n",
       "3         48.24750    -1.89837    36.29772     2.58776     0.97170   \n",
       "4         50.97020    42.20998    67.09964     8.46791   -15.85279   \n",
       "...            ...         ...         ...         ...         ...   \n",
       "515340    51.28467    45.88068    22.19582    -5.53319    -3.61835   \n",
       "515341    49.87870    37.93125    18.65987    -3.63581   -27.75665   \n",
       "515342    45.12852    12.65758   -38.72018     8.80882   -29.29985   \n",
       "515343    44.16614    32.38368    -3.34971    -2.49165   -19.59278   \n",
       "515344    51.85726    59.11655    26.39436    -5.46030   -20.69012   \n",
       "\n",
       "        timbreAvg6  timbreAvg7  timbreAvg8  timbreAvg9  timbreAvg10  ...  \\\n",
       "0        -13.09905   -25.01202   -12.23257     7.83089     -2.46783  ...   \n",
       "1        -24.83777     8.76630    -0.92019    18.76548      4.59210  ...   \n",
       "2        -18.54940    -3.27872    -2.35035    16.07017      1.39518  ...   \n",
       "3        -26.21683     5.05097   -10.34124     3.55005     -6.36304  ...   \n",
       "4        -16.81409   -12.48207    -9.37636    12.63699      0.93609  ...   \n",
       "...            ...         ...         ...         ...          ...  ...   \n",
       "515340   -16.36914     2.12652     5.18160    -8.66890      2.67217  ...   \n",
       "515341   -18.52988     7.76108     3.56109    -2.50351      2.20175  ...   \n",
       "515342    -2.28706   -18.40424   -22.28726    -4.52429    -11.46411  ...   \n",
       "515343   -18.67098     8.78428     4.02039   -12.01230     -0.74075  ...   \n",
       "515344   -19.95528    -6.72771     2.29590    10.31018      6.26597  ...   \n",
       "\n",
       "        timbreCov69  timbreCov70  timbreCov71  timbreCov72  timbreCov73  \\\n",
       "0          13.01620    -54.40548     58.99367     15.37344      1.11144   \n",
       "1           5.66812    -19.68073     33.04964     42.87836     -9.90378   \n",
       "2           3.03800     26.05866    -50.92779     10.93792     -0.07568   \n",
       "3          34.57337   -171.70734    -16.96705    -46.67617    -12.51516   \n",
       "4           9.92661    -55.95724     64.92712    -17.72522     -1.49237   \n",
       "...             ...          ...          ...          ...          ...   \n",
       "515340      4.81440     -3.75991    -30.92584     26.33968     -5.03390   \n",
       "515341     32.38589    -32.75535    -61.05473     56.65182     15.29965   \n",
       "515342    -18.73598    -71.15954   -123.98443    121.26989     10.89629   \n",
       "515343     67.16763    282.77624     -4.63677    144.00125     21.62652   \n",
       "515344    -11.50511    -69.18291     60.58456     28.64599     -4.39620   \n",
       "\n",
       "        timbreCov74  timbreCov75  timbreCov76  timbreCov77  timbreCov78  \n",
       "0         -23.08793     68.40795     -1.82223    -27.46348      2.26327  \n",
       "1         -32.22788     70.49388     12.04941     58.43453     26.92061  \n",
       "2          43.20130   -115.00698     -0.05859     39.67068     -0.66345  \n",
       "3          82.58061    -72.08993      9.90558    199.62971     18.85382  \n",
       "4          -7.50035     51.76631      7.88713     55.66926     28.74903  \n",
       "...             ...          ...          ...          ...          ...  \n",
       "515340     21.86037   -142.29410      3.42901    -41.14721    -15.46052  \n",
       "515341     95.88193    -10.63242     12.96552     92.11633     10.88815  \n",
       "515342     34.62409   -248.61020     -6.07171     53.96319     -8.09364  \n",
       "515343    -29.72432     71.47198     20.32240     14.83107     39.74909  \n",
       "515344    -64.56491    -45.61012     -5.51512     32.35602     12.17352  \n",
       "\n",
       "[515345 rows x 90 columns]"
      ]
     },
     "execution_count": 7,
     "metadata": {},
     "output_type": "execute_result"
    }
   ],
   "source": [
    "X = df.loc[:, df.columns != 'Year']\n",
    "X"
   ]
  },
  {
   "cell_type": "code",
   "execution_count": 8,
   "id": "56f13b2a",
   "metadata": {},
   "outputs": [],
   "source": [
    "scaler = StandardScaler()\n",
    "X = scaler.fit_transform(X)"
   ]
  },
  {
   "cell_type": "code",
   "execution_count": 9,
   "id": "91a4b5a0",
   "metadata": {},
   "outputs": [
    {
     "data": {
      "text/plain": [
       "array([[ 1.08057482,  0.39126538,  1.82653247, ..., -0.47059907,\n",
       "        -0.2559771 ,  0.04229179],\n",
       "       [ 0.88091936,  0.33229247,  1.74853919, ...,  0.56874417,\n",
       "         0.20694004,  1.15858664],\n",
       "       [ 1.24762241,  0.5925996 ,  1.33717326, ..., -0.338457  ,\n",
       "         0.10581886, -0.0902076 ],\n",
       "       ...,\n",
       "       [ 0.28700113,  0.22039472, -1.34336473, ..., -0.78899461,\n",
       "         0.18284332, -0.42658949],\n",
       "       [ 0.12839022,  0.60282948, -0.34047492, ...,  1.18860427,\n",
       "        -0.02804549,  1.73936161],\n",
       "       [ 1.39597218,  1.12110622,  0.50288465, ..., -0.74729168,\n",
       "         0.06639907,  0.49095174]])"
      ]
     },
     "execution_count": 9,
     "metadata": {},
     "output_type": "execute_result"
    }
   ],
   "source": [
    "X"
   ]
  },
  {
   "cell_type": "code",
   "execution_count": 10,
   "id": "7e88172f",
   "metadata": {},
   "outputs": [
    {
     "data": {
      "text/plain": [
       "0         2001\n",
       "1         2001\n",
       "2         2001\n",
       "3         2001\n",
       "4         2001\n",
       "          ... \n",
       "515340    2006\n",
       "515341    2006\n",
       "515342    2006\n",
       "515343    2006\n",
       "515344    2005\n",
       "Name: Year, Length: 515345, dtype: int64"
      ]
     },
     "execution_count": 10,
     "metadata": {},
     "output_type": "execute_result"
    }
   ],
   "source": [
    "Y = df['Year']\n",
    "Y"
   ]
  },
  {
   "cell_type": "markdown",
   "id": "21b421f4",
   "metadata": {},
   "source": [
    "On split les données de train et de test selon les recommandations du site :"
   ]
  },
  {
   "cell_type": "code",
   "execution_count": 11,
   "id": "077f4e8e",
   "metadata": {},
   "outputs": [
    {
     "data": {
      "text/plain": [
       "(463715, 90)"
      ]
     },
     "execution_count": 11,
     "metadata": {},
     "output_type": "execute_result"
    }
   ],
   "source": [
    "X_train = X[:463715]\n",
    "X_train.shape"
   ]
  },
  {
   "cell_type": "code",
   "execution_count": 12,
   "id": "c5acf794",
   "metadata": {},
   "outputs": [
    {
     "data": {
      "text/plain": [
       "(51630, 90)"
      ]
     },
     "execution_count": 12,
     "metadata": {},
     "output_type": "execute_result"
    }
   ],
   "source": [
    "X_test = X[463715:]\n",
    "X_test.shape"
   ]
  },
  {
   "cell_type": "code",
   "execution_count": 13,
   "id": "62abee47",
   "metadata": {},
   "outputs": [
    {
     "data": {
      "text/plain": [
       "(51630,)"
      ]
     },
     "execution_count": 13,
     "metadata": {},
     "output_type": "execute_result"
    }
   ],
   "source": [
    "Y_train = Y[:463715]\n",
    "Y_test = Y[463715:]\n",
    "Y_test.shape"
   ]
  },
  {
   "cell_type": "code",
   "execution_count": 14,
   "id": "b5a3ff94",
   "metadata": {},
   "outputs": [
    {
     "data": {
      "text/plain": [
       "array([[ 1.08057482,  0.39126538,  1.82653247, ..., -0.47059907,\n",
       "        -0.2559771 ,  0.04229179],\n",
       "       [ 0.88091936,  0.33229247,  1.74853919, ...,  0.56874417,\n",
       "         0.20694004,  1.15858664],\n",
       "       [ 1.24762241,  0.5925996 ,  1.33717326, ..., -0.338457  ,\n",
       "         0.10581886, -0.0902076 ],\n",
       "       ...,\n",
       "       [ 0.16299725,  0.00650938,  0.83664376, ..., -0.6637015 ,\n",
       "         0.0129031 , -0.24619245],\n",
       "       [ 0.24723385,  0.2492821 , -0.40731152, ...,  0.5328772 ,\n",
       "         0.46659224,  0.70080205],\n",
       "       [ 1.14294593,  0.10512455,  1.28720126, ..., -0.05104551,\n",
       "        -0.33943023, -0.05778221]])"
      ]
     },
     "execution_count": 14,
     "metadata": {},
     "output_type": "execute_result"
    }
   ],
   "source": [
    "X_train"
   ]
  },
  {
   "cell_type": "markdown",
   "id": "16500d6a",
   "metadata": {},
   "source": [
    "## Modeling"
   ]
  },
  {
   "cell_type": "code",
   "execution_count": 31,
   "id": "07ee5cdb",
   "metadata": {},
   "outputs": [],
   "source": [
    "from sklearn.model_selection import GridSearchCV\n",
    "from sklearn.linear_model import LinearRegression\n",
    "Linreg = LinearRegression()"
   ]
  },
  {
   "cell_type": "code",
   "execution_count": 32,
   "id": "110b09f1",
   "metadata": {},
   "outputs": [
    {
     "data": {
      "text/plain": [
       "{'copy_X': True,\n",
       " 'fit_intercept': True,\n",
       " 'n_jobs': None,\n",
       " 'normalize': 'deprecated',\n",
       " 'positive': False}"
      ]
     },
     "execution_count": 32,
     "metadata": {},
     "output_type": "execute_result"
    }
   ],
   "source": [
    "Linreg.get_params()"
   ]
  },
  {
   "cell_type": "code",
   "execution_count": 33,
   "id": "7a597c6f",
   "metadata": {},
   "outputs": [
    {
     "data": {
      "text/plain": [
       "0.2374852391376685"
      ]
     },
     "execution_count": 33,
     "metadata": {},
     "output_type": "execute_result"
    }
   ],
   "source": [
    "Linreg.fit(X_train,Y_train)\n",
    "linregscore = Linreg.score(X_train,Y_train)\n",
    "linregscore"
   ]
  },
  {
   "cell_type": "code",
   "execution_count": 34,
   "id": "f69dcbc8",
   "metadata": {},
   "outputs": [],
   "source": [
    "from sklearn.metrics import mean_squared_error"
   ]
  },
  {
   "cell_type": "code",
   "execution_count": 35,
   "id": "9dbe853f",
   "metadata": {},
   "outputs": [
    {
     "data": {
      "text/plain": [
       "90.44315668226051"
      ]
     },
     "execution_count": 35,
     "metadata": {},
     "output_type": "execute_result"
    }
   ],
   "source": [
    "Y_pred_linreg = Linreg.predict(X_test)\n",
    "mean_squared_error(Y_pred_linreg,Y_test)"
   ]
  },
  {
   "cell_type": "code",
   "execution_count": 36,
   "id": "cf7103ee",
   "metadata": {},
   "outputs": [
    {
     "data": {
      "text/plain": [
       "90.5472399767577"
      ]
     },
     "execution_count": 36,
     "metadata": {},
     "output_type": "execute_result"
    }
   ],
   "source": [
    "np.rint(Y_pred_linreg)\n",
    "mean_squared_error(np.rint(Y_pred_linreg),Y_test)"
   ]
  },
  {
   "cell_type": "code",
   "execution_count": 37,
   "id": "6a0f2a69",
   "metadata": {},
   "outputs": [
    {
     "data": {
      "text/plain": [
       "463715    2007\n",
       "463716    2003\n",
       "463717    2005\n",
       "463718    2003\n",
       "463719    2005\n",
       "          ... \n",
       "515340    2006\n",
       "515341    2006\n",
       "515342    2006\n",
       "515343    2006\n",
       "515344    2005\n",
       "Name: Year, Length: 51630, dtype: int64"
      ]
     },
     "execution_count": 37,
     "metadata": {},
     "output_type": "execute_result"
    }
   ],
   "source": [
    "Y_test"
   ]
  },
  {
   "cell_type": "markdown",
   "id": "65f0bf0a",
   "metadata": {},
   "source": [
    "Lasso Model"
   ]
  },
  {
   "cell_type": "code",
   "execution_count": 38,
   "id": "8e671baa",
   "metadata": {},
   "outputs": [],
   "source": [
    "from sklearn.linear_model import Lasso"
   ]
  },
  {
   "cell_type": "code",
   "execution_count": 39,
   "id": "a6e0278a",
   "metadata": {},
   "outputs": [],
   "source": [
    "lasso_param = {'alpha': [0.0001, 0.02, 0.1, 0.5]}\n",
    "lasso_grid=GridSearchCV(Lasso(),lasso_param,cv=5)"
   ]
  },
  {
   "cell_type": "code",
   "execution_count": 40,
   "id": "4f00e9d4",
   "metadata": {},
   "outputs": [
    {
     "data": {
      "text/plain": [
       "0.23569424512595286"
      ]
     },
     "execution_count": 40,
     "metadata": {},
     "output_type": "execute_result"
    }
   ],
   "source": [
    "lasso_grid.fit(X_train,Y_train)\n",
    "lassoscore = lasso_grid.best_score_\n",
    "lassoscore"
   ]
  },
  {
   "cell_type": "code",
   "execution_count": 41,
   "id": "ed7cb2cd",
   "metadata": {},
   "outputs": [
    {
     "data": {
      "text/plain": [
       "{'alpha': 0.0001}"
      ]
     },
     "execution_count": 41,
     "metadata": {},
     "output_type": "execute_result"
    }
   ],
   "source": [
    "lasso_grid.best_params_"
   ]
  },
  {
   "cell_type": "code",
   "execution_count": 42,
   "id": "6d007453",
   "metadata": {},
   "outputs": [
    {
     "data": {
      "text/plain": [
       "90.44322906648007"
      ]
     },
     "execution_count": 42,
     "metadata": {},
     "output_type": "execute_result"
    }
   ],
   "source": [
    "Y_pred_lasso = lasso_grid.predict(X_test)\n",
    "mean_squared_error(Y_pred_lasso,Y_test)"
   ]
  },
  {
   "cell_type": "markdown",
   "id": "580e415c",
   "metadata": {},
   "source": [
    "First test of the DecisionTreeClassifier model"
   ]
  },
  {
   "cell_type": "code",
   "execution_count": 43,
   "id": "21431c54",
   "metadata": {},
   "outputs": [],
   "source": [
    "from sklearn.tree import DecisionTreeClassifier\n",
    "clf = DecisionTreeClassifier().fit(X_train, Y_train)\n",
    "predictions = clf.predict(X_test)\n"
   ]
  },
  {
   "cell_type": "code",
   "execution_count": 44,
   "id": "a20a2d36",
   "metadata": {},
   "outputs": [
    {
     "name": "stdout",
     "output_type": "stream",
     "text": [
      "Accuracy: 0.05723416618245206\n"
     ]
    }
   ],
   "source": [
    "print(\"Accuracy:\",metrics.accuracy_score(Y_test, predictions))"
   ]
  },
  {
   "cell_type": "code",
   "execution_count": 45,
   "id": "3db7c555",
   "metadata": {},
   "outputs": [
    {
     "data": {
      "text/plain": [
       "463715    2007\n",
       "463716    2003\n",
       "463717    2005\n",
       "463718    2003\n",
       "463719    2005\n",
       "          ... \n",
       "515340    2006\n",
       "515341    2006\n",
       "515342    2006\n",
       "515343    2006\n",
       "515344    2005\n",
       "Name: Year, Length: 51630, dtype: int64"
      ]
     },
     "execution_count": 45,
     "metadata": {},
     "output_type": "execute_result"
    }
   ],
   "source": [
    "Y_test"
   ]
  },
  {
   "cell_type": "markdown",
   "id": "dd032836",
   "metadata": {},
   "source": [
    "Logistic Regression"
   ]
  },
  {
   "cell_type": "code",
   "execution_count": null,
   "id": "ed12010f",
   "metadata": {},
   "outputs": [],
   "source": [
    "from sklearn.linear_model import LogisticRegression\n",
    "grid={\"C\":np.logspace(-3,3,7), \"penalty\":[\"l1\",\"l2\"]}# l1 lasso l2 ridge\n",
    "logreg=LogisticRegression()\n",
    "logreg_cv=GridSearchCV(logreg,grid,cv=10)\n",
    "logreg_cv.fit(X_train,Y_train)\n",
    "\n",
    "print(\"tuned hpyerparameters :(best parameters) \",logreg_cv.best_params_)\n",
    "print(\"accuracy :\",logreg_cv.best_score_)"
   ]
  },
  {
   "cell_type": "code",
   "execution_count": null,
   "id": "7be1e902",
   "metadata": {},
   "outputs": [],
   "source": [
    "Logreg = LogisticRegression()\n",
    "Logreg.fit(X_train, Y_train)"
   ]
  },
  {
   "cell_type": "code",
   "execution_count": null,
   "id": "9ecc3e0d",
   "metadata": {},
   "outputs": [],
   "source": [
    "logregscore = Logreg.score(X_test,Y_test)\n",
    "logregscore"
   ]
  },
  {
   "cell_type": "code",
   "execution_count": null,
   "id": "71093a59",
   "metadata": {},
   "outputs": [],
   "source": [
    "Y_pred_logreg = Logreg.predict(X_test)\n",
    "mean_squared_error(Y_pred_logreg,Y_test)"
   ]
  },
  {
   "cell_type": "code",
   "execution_count": null,
   "id": "28dd29e1",
   "metadata": {},
   "outputs": [],
   "source": [
    "fig, ax = plt.subplots()\n",
    "ax.scatter(Y_test,Y_pred_linreg, color =\"red\", s=10)\n",
    "xpoints = ypoints = plt.xlim()\n",
    "ax.plot(xpoints, ypoints, linestyle='--', color='k', lw=3, scalex=False, scaley=False)\n",
    "ax.set_title(\"Linear Regression model, score :\"+str(round(linregscore,3)))\n",
    "ax.set_xlabel('Real Year')\n",
    "ax.set_ylabel('Predicted Year')\n",
    "\n",
    "ax2 = fig.add_axes([1.1, 0.12,0.78, 0.75])\n",
    "ax2.scatter(Y_test,Y_pred_lasso, color =\"red\", s=10)\n",
    "ax2.plot(xpoints, ypoints, linestyle='--', color='k', lw=3, scalex=False, scaley=False)\n",
    "ax2.set_title(\"Lasso model, score :\"+str(round(lassoscore,3)))\n",
    "ax2.set_xlabel('Real Year')\n",
    "ax2.set_ylabel('Predicted Year')\n",
    "\n",
    "ax3 = fig.add_axes([0.12, -0.85, 0.78, 0.75])\n",
    "ax3.scatter(Y_test,Y_pred_logreg, color =\"red\", s=10)\n",
    "ax3.plot(xpoints, ypoints, linestyle='--', color='k', lw=3, scalex=False, scaley=False)\n",
    "ax3.set_title(\"Logistic Regression model, score :\"+str(round(logregscore,3)))\n",
    "ax3.set_xlabel('Real Year')\n",
    "ax3.set_ylabel('Predicted Year')\n",
    "\n",
    "ax4 = fig.add_axes([1.1, -0.85, 0.78, 0.75])\n",
    "ax4.bar(['Linear Regression', 'Lasso', 'Logistic Regression'], [linregscore, lassoscore, logregscore])\n",
    "ax4.set_ylim(0,1)\n",
    "ax4.set_title(\"Linear model comparison\") \n",
    "ax4.set_ylabel('Model score')\n",
    "ax4.set_xlabel('Model')\n",
    "\n",
    "\n",
    "plt.show()"
   ]
  },
  {
   "cell_type": "markdown",
   "id": "861f1385",
   "metadata": {},
   "source": [
    "Il est peu surprenant que des modèles linéaires ne parviennent pas a retrouver l'année de sortie d'un film puisque ce problème est avant tout un problème de classification selon une époque. Mais nous avons tout de même testé pour la science."
   ]
  },
  {
   "cell_type": "markdown",
   "id": "8027360f",
   "metadata": {},
   "source": [
    "KNN"
   ]
  },
  {
   "cell_type": "code",
   "execution_count": null,
   "id": "9020dbcd",
   "metadata": {},
   "outputs": [],
   "source": [
    "from sklearn.neighbors import KNeighborsClassifier"
   ]
  },
  {
   "cell_type": "code",
   "execution_count": null,
   "id": "f4fa8a13",
   "metadata": {},
   "outputs": [],
   "source": [
    "knn = KNeighborsClassifier()"
   ]
  },
  {
   "cell_type": "code",
   "execution_count": null,
   "id": "58b8e643",
   "metadata": {},
   "outputs": [],
   "source": [
    "leaf_size = list(range(1,5,25))\n",
    "n_neighbors = list((2,10,50))\n",
    "p=[1,2]\n",
    "hyperparameters = dict(leaf_size=leaf_size, n_neighbors=n_neighbors, p=p)\n",
    "knn_tuned = GridSearchCV(knn, hyperparameters, cv=10)"
   ]
  },
  {
   "cell_type": "code",
   "execution_count": null,
   "id": "4f3c117f",
   "metadata": {},
   "outputs": [],
   "source": [
    "knn_tuned.fit(X_train,Y_train)\n",
    "knn_tuned.score(X_train,Y_train)"
   ]
  },
  {
   "cell_type": "code",
   "execution_count": null,
   "id": "c984209d",
   "metadata": {},
   "outputs": [],
   "source": [
    "print(knn_tuned.best_params_)"
   ]
  },
  {
   "cell_type": "code",
   "execution_count": null,
   "id": "52e31b41",
   "metadata": {},
   "outputs": [],
   "source": [
    "from sklearn.metrics import accuracy_score"
   ]
  },
  {
   "cell_type": "code",
   "execution_count": null,
   "id": "8499c5d0",
   "metadata": {},
   "outputs": [],
   "source": [
    "Y_pred = knn_tuned.predict(X_test)\n",
    "accuracy_score(Y_pred, Y_test)"
   ]
  },
  {
   "cell_type": "markdown",
   "id": "25497a17",
   "metadata": {},
   "source": [
    "BaggingClassifier"
   ]
  },
  {
   "cell_type": "code",
   "execution_count": null,
   "id": "ceec5896",
   "metadata": {},
   "outputs": [],
   "source": [
    "from sklearn.ensemble import BagginClassifier\n",
    "bag = BaggingClassifier()"
   ]
  },
  {
   "cell_type": "code",
   "execution_count": null,
   "id": "40856030",
   "metadata": {},
   "outputs": [],
   "source": [
    "params2 = {\n",
    "    'n_estimators': [5, 10, 15, 20, 30],\n",
    "}\n",
    "bag_tuned =GridSearchCV(bag, param_grid=params2, cv=3)\n",
    "bag_tuned.fit(X_train, Y_train)"
   ]
  },
  {
   "cell_type": "code",
   "execution_count": null,
   "id": "4027af38",
   "metadata": {},
   "outputs": [],
   "source": [
    "bag_tuned.score(X_train, Y_train)"
   ]
  },
  {
   "cell_type": "code",
   "execution_count": null,
   "id": "0721dda4",
   "metadata": {},
   "outputs": [],
   "source": [
    "Y_pred = bag_tuned.predict(X_test)\n",
    "accuracy_score(Y_pred,Y_test)"
   ]
  },
  {
   "cell_type": "markdown",
   "id": "8d07b68c",
   "metadata": {},
   "source": [
    "RandomForestRegressor"
   ]
  },
  {
   "cell_type": "code",
   "execution_count": null,
   "id": "485055b8",
   "metadata": {},
   "outputs": [],
   "source": [
    "from sklearn.ensemble import RandomForestRegressor\n",
    "rfr = RandomForestRegressor()\n",
    "rfr.fit(X_train, Y_train)\n",
    "Y_pred = rfr.predict(X_test)\n",
    "rfr.score(X_train,Y_train)"
   ]
  },
  {
   "cell_type": "markdown",
   "id": "7c75a8f6",
   "metadata": {},
   "source": [
    "Neural Network"
   ]
  },
  {
   "cell_type": "code",
   "execution_count": null,
   "id": "334a1bdc",
   "metadata": {},
   "outputs": [],
   "source": [
    "from sklearn.neural_network import MLPClassifier\n",
    "mlp = MLPClassifier(hidden_layer_sizes=(90,90,90), activation='relu', solver='adam', max_iter=500).fit(X_train, Y_train)\n",
    "predictions = mlp.predict(X_test)\n",
    "mlp.score(X_test, Y_test)"
   ]
  },
  {
   "cell_type": "markdown",
   "id": "0be37804",
   "metadata": {},
   "source": [
    "We decided to change the way we test data and to search for predictions correct within a 5 year timeframe"
   ]
  },
  {
   "cell_type": "code",
   "execution_count": 15,
   "id": "ac9a0a6e",
   "metadata": {},
   "outputs": [
    {
     "name": "stderr",
     "output_type": "stream",
     "text": [
      "C:\\Users\\vlebo\\anaconda3\\lib\\site-packages\\sklearn\\model_selection\\_split.py:676: UserWarning: The least populated class in y has only 1 members, which is less than n_splits=3.\n",
      "  warnings.warn(\n"
     ]
    },
    {
     "ename": "NameError",
     "evalue": "name 'ipredictions_bag_grid' is not defined",
     "output_type": "error",
     "traceback": [
      "\u001b[1;31m---------------------------------------------------------------------------\u001b[0m",
      "\u001b[1;31mNameError\u001b[0m                                 Traceback (most recent call last)",
      "\u001b[1;32m~\\AppData\\Local\\Temp\\ipykernel_14280\\3039026164.py\u001b[0m in \u001b[0;36m<module>\u001b[1;34m\u001b[0m\n\u001b[0;32m     11\u001b[0m \u001b[0mcptr\u001b[0m \u001b[1;33m=\u001b[0m \u001b[1;36m0\u001b[0m\u001b[1;33m\u001b[0m\u001b[1;33m\u001b[0m\u001b[0m\n\u001b[0;32m     12\u001b[0m \u001b[1;32mfor\u001b[0m \u001b[0mi\u001b[0m \u001b[1;32min\u001b[0m \u001b[0mrange\u001b[0m\u001b[1;33m(\u001b[0m\u001b[1;36m1\u001b[0m\u001b[1;33m,\u001b[0m \u001b[0mlen\u001b[0m\u001b[1;33m(\u001b[0m\u001b[0mpredictions_bag_grid\u001b[0m\u001b[1;33m)\u001b[0m\u001b[1;33m)\u001b[0m\u001b[1;33m:\u001b[0m\u001b[1;33m\u001b[0m\u001b[1;33m\u001b[0m\u001b[0m\n\u001b[1;32m---> 13\u001b[1;33m     \u001b[1;32mif\u001b[0m \u001b[1;33m(\u001b[0m\u001b[0mabs\u001b[0m\u001b[1;33m(\u001b[0m\u001b[0mipredictions_bag_grid\u001b[0m\u001b[1;33m[\u001b[0m\u001b[0mi\u001b[0m\u001b[1;33m]\u001b[0m \u001b[1;33m-\u001b[0m \u001b[0mY_test\u001b[0m\u001b[1;33m.\u001b[0m\u001b[0miloc\u001b[0m\u001b[1;33m[\u001b[0m\u001b[0mi\u001b[0m\u001b[1;33m]\u001b[0m\u001b[1;33m)\u001b[0m \u001b[1;33m<\u001b[0m \u001b[1;36m5\u001b[0m\u001b[1;33m)\u001b[0m\u001b[1;33m:\u001b[0m\u001b[1;33m\u001b[0m\u001b[1;33m\u001b[0m\u001b[0m\n\u001b[0m\u001b[0;32m     14\u001b[0m         \u001b[0mcptr\u001b[0m \u001b[1;33m+=\u001b[0m \u001b[1;36m1\u001b[0m\u001b[1;33m\u001b[0m\u001b[1;33m\u001b[0m\u001b[0m\n\u001b[0;32m     15\u001b[0m \u001b[0mratio\u001b[0m \u001b[1;33m=\u001b[0m \u001b[0mcptr\u001b[0m \u001b[1;33m/\u001b[0m \u001b[0mlen\u001b[0m\u001b[1;33m(\u001b[0m\u001b[0mpredictions_bag_grid\u001b[0m\u001b[1;33m)\u001b[0m\u001b[1;33m\u001b[0m\u001b[1;33m\u001b[0m\u001b[0m\n",
      "\u001b[1;31mNameError\u001b[0m: name 'ipredictions_bag_grid' is not defined"
     ]
    }
   ],
   "source": [
    "from sklearn.tree import DecisionTreeClassifier\n",
    "\n",
    "grid1={\"max_depth\" : [2,10,20]}\n",
    "bag_grid = GridSearchCV(DecisionTreeClassifier(), grid1, cv = 3)\n",
    "bag_grid.fit(X_train, np.array(Y_train))\n",
    "predictions_bag_grid = bag_grid.predict(X_test)\n",
    "\n",
    "cptr = 0\n",
    "for i in range(1, len(predictions_bag_grid)):\n",
    "    if (abs(predictions_bag_grid[i] - Y_test.iloc[i]) < 5):\n",
    "        cptr += 1\n",
    "ratio = cptr / len(predictions_bag_grid)\n",
    "print(\"Period guess ration for linear model : \" + str(ratio))\n"
   ]
  },
  {
   "cell_type": "code",
   "execution_count": 16,
   "id": "979c4a6e",
   "metadata": {},
   "outputs": [
    {
     "name": "stdout",
     "output_type": "stream",
     "text": [
      "Period guess ration for linear model : 0.530718574472206\n"
     ]
    }
   ],
   "source": [
    "cptr = 0\n",
    "for i in range(1, len(predictions_bag_grid)):\n",
    "    if (abs(predictions_bag_grid[i] - Y_test.iloc[i]) < 5):\n",
    "        cptr += 1\n",
    "ratio = cptr / len(predictions_bag_grid)\n",
    "print(\"Period guess ration for linear model : \" + str(ratio))"
   ]
  },
  {
   "cell_type": "code",
   "execution_count": 17,
   "id": "606665af",
   "metadata": {},
   "outputs": [],
   "source": [
    "max_depth = [2,10,20]\n",
    "score_dtc = []\n",
    "dtc_ratios =[]\n",
    "for i in range(len(max_depth)):\n",
    "    dtc = DecisionTreeClassifier(max_depth = max_depth[i] )\n",
    "    dtc.fit(X_train, Y_train)\n",
    "    score_dtc.append(dtc.score(X_train,Y_train))\n",
    "    Y_pred_dtc = dtc.predict(X_test)\n",
    "    cptr = 0\n",
    "    for i in range(len(Y_pred_dtc)):\n",
    "        if (abs(Y_pred_dtc[i] - Y_test.iloc[i])<5):\n",
    "            cptr+=1\n",
    "    ratio = cptr / len(Y_pred_dtc)\n",
    "    dtc_ratios.append(ratio)"
   ]
  },
  {
   "cell_type": "code",
   "execution_count": 18,
   "id": "4db20b48",
   "metadata": {},
   "outputs": [
    {
     "data": {
      "text/plain": [
       "[0.07693734298006319, 0.1009240589586276, 0.35769168562586934]"
      ]
     },
     "execution_count": 18,
     "metadata": {},
     "output_type": "execute_result"
    }
   ],
   "source": [
    "score_dtc"
   ]
  },
  {
   "cell_type": "code",
   "execution_count": 19,
   "id": "7aa2ed3c",
   "metadata": {},
   "outputs": [
    {
     "data": {
      "text/plain": [
       "[0.4901801278326554, 0.5307379430563626, 0.489540964555491]"
      ]
     },
     "execution_count": 19,
     "metadata": {},
     "output_type": "execute_result"
    }
   ],
   "source": [
    "dtc_ratios"
   ]
  },
  {
   "cell_type": "code",
   "execution_count": 20,
   "id": "e0683e32",
   "metadata": {},
   "outputs": [],
   "source": [
    "from sklearn.metrics import accuracy_score"
   ]
  },
  {
   "cell_type": "code",
   "execution_count": 21,
   "id": "1cd5aa2a",
   "metadata": {},
   "outputs": [
    {
     "data": {
      "text/plain": [
       "0.06633740073600619"
      ]
     },
     "execution_count": 21,
     "metadata": {},
     "output_type": "execute_result"
    }
   ],
   "source": [
    "accuracy_score(Y_pred_dtc, Y_test)"
   ]
  },
  {
   "cell_type": "code",
   "execution_count": 27,
   "id": "0581b6de",
   "metadata": {},
   "outputs": [
    {
     "data": {
      "image/png": "[encoded data removed]",
      "text/plain": [
       "<Figure size 640x480 with 1 Axes>"
      ]
     },
     "metadata": {},
     "output_type": "display_data"
    },
    {
     "name": "stdout",
     "output_type": "stream",
     "text": [
      "         Valeur max pour max_depth = 10 : 0.531\n"
     ]
    }
   ],
   "source": [
    "plt.plot(max_depth,score_dtc, color = 'red', label = 'Score')\n",
    "plt.grid()\n",
    "plt.plot(max_depth, dtc_ratios, color = 'green', label = 'Ratio')\n",
    "plt.legend()\n",
    "plt.xlabel('max_depth values')\n",
    "plt.ylabel('Ratios values')\n",
    "plt.title('Decision Tree Classifier model to identify periods', fontsize = 15)\n",
    "plt.show()\n",
    "print(\"         Valeur max pour max_depth = 10 : \"+str(round(dtc_ratios[1],3)))"
   ]
  },
  {
   "cell_type": "raw",
   "id": "5073d442",
   "metadata": {},
   "source": [
    "from sklearn.neighbors import KNeighborsClassifier\n",
    "n_neighbors = [2,5,8]\n",
    "score_dtc = []\n",
    "dtc_ratios =[]\n",
    "for i in range(len(n_neighbors)):\n",
    "    dtc = KNeighborsClassifier(n_neighbors = n_neighbors[i] )\n",
    "    dtc.fit(X_train, Y_train)\n",
    "    score_dtc.append(dtc.score(X_train,Y_train))\n",
    "    Y_pred_dtc = dtc.predict(X_test)\n",
    "    cptr = 0\n",
    "    for i in range(len(Y_pred_dtc)):\n",
    "        if (abs(Y_pred_dtc[i] - Y_test.iloc[i])<5):\n",
    "            cptr+=1\n",
    "    ratio = cptr / len(Y_pred_dtc)\n",
    "    dtc_ratios.append(ratio)"
   ]
  }
 ],
 "metadata": {
  "kernelspec": {
   "display_name": "Python 3 (ipykernel)",
   "language": "python",
   "name": "python3"
  },
  "language_info": {
   "codemirror_mode": {
    "name": "ipython",
    "version": 3
   },
   "file_extension": ".py",
   "mimetype": "text/x-python",
   "name": "python",
   "nbconvert_exporter": "python",
   "pygments_lexer": "ipython3",
   "version": "3.9.13"
  }
 },
 "nbformat": 4,
 "nbformat_minor": 5
}
